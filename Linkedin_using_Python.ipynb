{
 "cells": [
  {
   "cell_type": "markdown",
   "metadata": {
    "colab_type": "text",
    "id": "view-in-github"
   },
   "source": [
    "<a href=\"https://colab.research.google.com/github/Vashi050197/LinkedIn/blob/main/Linkedin_using_Python.ipynb\" target=\"_parent\"><img src=\"https://colab.research.google.com/assets/colab-badge.svg\" alt=\"Open In Colab\"/></a>"
   ]
  },
  {
   "cell_type": "code",
   "execution_count": 24,
   "metadata": {
    "id": "UbtQltqkUiJ1"
   },
   "outputs": [],
   "source": [
    "from config import ACCOUNT_EMAIL,ACCOUNT_PASSWORD,PHONE_NUMBER,KEYWORDS\n",
    "\n",
    "\n",
    "data={\n",
    "\n",
    "    \"email\" : ACCOUNT_EMAIL,\n",
    "    \"password\" : ACCOUNT_PASSWORD,\n",
    "    \"keywords\" : KEYWORDS.replace(\" \",\"%20\"),\n",
    "    \"location\" : \"India\",\n",
    "    \"phoneNo\" : PHONE_NUMBER\n",
    "    \n",
    "}\n"
   ]
  },
  {
   "cell_type": "code",
   "execution_count": 25,
   "metadata": {
    "id": "qYkdD4-eUiJ8"
   },
   "outputs": [],
   "source": [
    "d={}"
   ]
  },
  {
   "cell_type": "code",
   "execution_count": 26,
   "metadata": {
    "colab": {
     "base_uri": "https://localhost:8080/",
     "height": 703
    },
    "id": "SI4ZROrOUiJ8",
    "outputId": "4695b48b-cf74-4029-f0d4-75991c6d7f74",
    "scrolled": true
   },
   "outputs": [
    {
     "name": "stdout",
     "output_type": "stream",
     "text": [
      "total result:  1755\n",
      "=========================================================================================\n",
      "\n",
      "Job Title: Principal Software Engineer\n",
      "You are applying to the position of:  Principal Software Engineer\n"
     ]
    },
    {
     "name": "stdin",
     "output_type": "stream",
     "text": [
      " A\n"
     ]
    },
    {
     "name": "stdout",
     "output_type": "stream",
     "text": [
      "A mean Already Applied\n",
      "You already applied to this job, go to next...\n",
      "=========================================================================================\n",
      "\n",
      "Job Title: SDE / Sr SDE / Associate Staff Engineer\n",
      "You are applying to the position of:  SDE / Sr SDE / Associate Staff Engineer\n"
     ]
    },
    {
     "name": "stdin",
     "output_type": "stream",
     "text": [
      " NA\n"
     ]
    },
    {
     "name": "stdout",
     "output_type": "stream",
     "text": [
      "NA mean You have not Applied before\n"
     ]
    },
    {
     "name": "stdin",
     "output_type": "stream",
     "text": [
      " 2\n",
      " n\n"
     ]
    },
    {
     "name": "stdout",
     "output_type": "stream",
     "text": [
      "Next option selected, your application is successful...\n"
     ]
    },
    {
     "name": "stdin",
     "output_type": "stream",
     "text": [
      " r\n"
     ]
    },
    {
     "name": "stdout",
     "output_type": "stream",
     "text": [
      "Next option selected, your application is successful...\n",
      "=========================================================================================\n",
      "\n",
      "Job Title: Senior Software Engineer\n",
      "You are applying to the position of:  Senior Software Engineer\n"
     ]
    },
    {
     "name": "stdin",
     "output_type": "stream",
     "text": [
      " A\n"
     ]
    },
    {
     "name": "stdout",
     "output_type": "stream",
     "text": [
      "A mean Already Applied\n",
      "You already applied to this job, go to next...\n",
      "=========================================================================================\n",
      "\n",
      "Job Title: Engineer/ Lead- C++ or Python( Currently Remote)\n",
      "You are applying to the position of:  Engineer/ Lead- C++ or Python( Currently Remote)\n"
     ]
    },
    {
     "name": "stdin",
     "output_type": "stream",
     "text": [
      " NA\n"
     ]
    },
    {
     "name": "stdout",
     "output_type": "stream",
     "text": [
      "NA mean You have not Applied before\n"
     ]
    },
    {
     "name": "stdin",
     "output_type": "stream",
     "text": [
      " 2\n",
      " n\n"
     ]
    },
    {
     "name": "stdout",
     "output_type": "stream",
     "text": [
      "Next option selected, your application is successful...\n"
     ]
    },
    {
     "name": "stdin",
     "output_type": "stream",
     "text": [
      " n\n"
     ]
    },
    {
     "name": "stdout",
     "output_type": "stream",
     "text": [
      "Next option selected, your application is successful...\n"
     ]
    },
    {
     "name": "stdin",
     "output_type": "stream",
     "text": [
      " r\n",
      "How many years of work experience do you have with C++? 3\n"
     ]
    },
    {
     "name": "stdout",
     "output_type": "stream",
     "text": [
      "Next option selected, your application is successful...\n",
      "=========================================================================================\n",
      "\n",
      "Job Title: Python Developer\n",
      "You are applying to the position of:  Python Developer\n"
     ]
    },
    {
     "name": "stdin",
     "output_type": "stream",
     "text": [
      " A\n"
     ]
    },
    {
     "name": "stdout",
     "output_type": "stream",
     "text": [
      "A mean Already Applied\n",
      "You already applied to this job, go to next...\n",
      "=========================================================================================\n",
      "\n",
      "Job Title: Senior Machine Learning Engineer\n",
      "You are applying to the position of:  Senior Machine Learning Engineer\n"
     ]
    },
    {
     "name": "stdin",
     "output_type": "stream",
     "text": [
      " A\n"
     ]
    },
    {
     "name": "stdout",
     "output_type": "stream",
     "text": [
      "A mean Already Applied\n",
      "You already applied to this job, go to next...\n",
      "=========================================================================================\n",
      "\n",
      "Job Title: Senior Software Engineer\n",
      "You are applying to the position of:  Senior Software Engineer\n"
     ]
    },
    {
     "name": "stdin",
     "output_type": "stream",
     "text": [
      " NA\n"
     ]
    },
    {
     "name": "stdout",
     "output_type": "stream",
     "text": [
      "NA mean You have not Applied before\n"
     ]
    },
    {
     "name": "stdin",
     "output_type": "stream",
     "text": [
      " 2\n",
      " n\n"
     ]
    },
    {
     "name": "stdout",
     "output_type": "stream",
     "text": [
      "Next option selected, your application is successful...\n"
     ]
    },
    {
     "name": "stdin",
     "output_type": "stream",
     "text": [
      " n\n"
     ]
    },
    {
     "name": "stdout",
     "output_type": "stream",
     "text": [
      "Next option selected, your application is successful...\n"
     ]
    },
    {
     "name": "stdin",
     "output_type": "stream",
     "text": [
      " n\n"
     ]
    },
    {
     "name": "stdout",
     "output_type": "stream",
     "text": [
      "Next option selected, your application is successful...\n"
     ]
    },
    {
     "name": "stdin",
     "output_type": "stream",
     "text": [
      " n\n"
     ]
    },
    {
     "name": "stdout",
     "output_type": "stream",
     "text": [
      "Next option selected, your application is successful...\n"
     ]
    },
    {
     "name": "stdin",
     "output_type": "stream",
     "text": [
      " x\n",
      " x\n",
      " x\n",
      " r\n",
      "Your message to the hiring manager na\n"
     ]
    },
    {
     "name": "stdout",
     "output_type": "stream",
     "text": [
      "Next option selected, your application is successful...\n",
      "=========================================================================================\n",
      "\n",
      "Job Title: Senior Software Engineer\n",
      "You are applying to the position of:  Senior Software Engineer\n"
     ]
    },
    {
     "name": "stdin",
     "output_type": "stream",
     "text": [
      " A\n"
     ]
    },
    {
     "name": "stdout",
     "output_type": "stream",
     "text": [
      "A mean Already Applied\n",
      "You already applied to this job, go to next...\n",
      "=========================================================================================\n",
      "\n",
      "Job Title: Senior Python Developer\n",
      "You are applying to the position of:  Senior Python Developer\n"
     ]
    },
    {
     "name": "stdin",
     "output_type": "stream",
     "text": [
      " NA\n"
     ]
    },
    {
     "name": "stdout",
     "output_type": "stream",
     "text": [
      "NA mean You have not Applied before\n"
     ]
    },
    {
     "name": "stdin",
     "output_type": "stream",
     "text": [
      " 2\n",
      " n\n"
     ]
    },
    {
     "name": "stdout",
     "output_type": "stream",
     "text": [
      "Next option selected, your application is successful...\n"
     ]
    },
    {
     "name": "stdin",
     "output_type": "stream",
     "text": [
      " x\n",
      " r\n",
      "How many years of work experience do you have with Python (Programming Language)? 4\n",
      "How many years of work experience do you have with Django? 3\n",
      "How many years of work experience do you have with Databases? 3\n"
     ]
    },
    {
     "name": "stdout",
     "output_type": "stream",
     "text": [
      "Next option selected, your application is successful...\n",
      "=========================================================================================\n",
      "\n",
      "Job Title: Lead Python Engineer\n",
      "You are applying to the position of:  Lead Python Engineer\n"
     ]
    },
    {
     "name": "stdin",
     "output_type": "stream",
     "text": [
      " A\n"
     ]
    },
    {
     "name": "stdout",
     "output_type": "stream",
     "text": [
      "A mean Already Applied\n",
      "You already applied to this job, go to next...\n",
      "=========================================================================================\n",
      "\n",
      "Job Title: Software Engineer- Computational Geometry\n",
      "You are applying to the position of:  Software Engineer- Computational Geometry\n"
     ]
    },
    {
     "name": "stdin",
     "output_type": "stream",
     "text": [
      " NA\n"
     ]
    },
    {
     "name": "stdout",
     "output_type": "stream",
     "text": [
      "NA mean You have not Applied before\n"
     ]
    },
    {
     "name": "stdin",
     "output_type": "stream",
     "text": [
      " 2\n",
      " x\n",
      " x\n",
      " r\n",
      "How many years of work experience do you have with Geometry? 3\n",
      "How many years of experience in Computational Geometry? 3\n"
     ]
    },
    {
     "name": "stdout",
     "output_type": "stream",
     "text": [
      "Next option selected, your application is successful...\n",
      "=========================================================================================\n",
      "\n",
      "Job Title: Senior Software Engineer\n",
      "You are applying to the position of:  Senior Software Engineer\n"
     ]
    },
    {
     "name": "stdin",
     "output_type": "stream",
     "text": [
      " NA\n"
     ]
    },
    {
     "name": "stdout",
     "output_type": "stream",
     "text": [
      "NA mean You have not Applied before\n"
     ]
    },
    {
     "name": "stdin",
     "output_type": "stream",
     "text": [
      " 2\n",
      " x\n",
      " x\n",
      " r\n",
      "How many years of work experience do you have with Spring Boot? \n",
      "How many years of work experience do you have with Java? 3\n",
      "How many years of work experience do you have with Communication? 3\n"
     ]
    },
    {
     "name": "stdout",
     "output_type": "stream",
     "text": [
      "Next option selected, your application is successful...\n",
      "=========================================================================================\n",
      "\n",
      "Job Title: Senior Programmer\n",
      "You are applying to the position of:  Senior Programmer\n"
     ]
    },
    {
     "name": "stdin",
     "output_type": "stream",
     "text": [
      " NA\n"
     ]
    },
    {
     "name": "stdout",
     "output_type": "stream",
     "text": [
      "NA mean You have not Applied before\n"
     ]
    },
    {
     "name": "stdin",
     "output_type": "stream",
     "text": [
      " 2\n",
      " x\n",
      " x\n",
      " x\n",
      " x\n",
      " r\n",
      "How many years of Pharmaceutical/CRO industry experience do you have? 2\n",
      "How many years of relevant programming experience do you have? 4\n"
     ]
    },
    {
     "name": "stdout",
     "output_type": "stream",
     "text": [
      "Next option selected, your application is successful...\n",
      "=========================================================================================\n",
      "\n",
      "Job Title: Senior Software Engineer\n",
      "You are applying to the position of:  Senior Software Engineer\n"
     ]
    },
    {
     "name": "stdin",
     "output_type": "stream",
     "text": [
      " NA\n"
     ]
    },
    {
     "name": "stdout",
     "output_type": "stream",
     "text": [
      "NA mean You have not Applied before\n"
     ]
    },
    {
     "name": "stdin",
     "output_type": "stream",
     "text": [
      " 2\n",
      " x\n",
      " x\n",
      " r\n",
      "How many years of work experience do you have with Google BigQuery? 2\n",
      "How many years of work experience do you have with Software Development Life Cycle (SDLC)? 4\n",
      "How many years of work experience do you have with Google Cloud Platform (GCP)? 4\n"
     ]
    },
    {
     "name": "stdout",
     "output_type": "stream",
     "text": [
      "Next option selected, your application is successful...\n",
      "=========================================================================================\n",
      "\n",
      "Job Title: Senior Software Engineer\n",
      "You are applying to the position of:  Senior Software Engineer\n"
     ]
    },
    {
     "name": "stdin",
     "output_type": "stream",
     "text": [
      " NA\n"
     ]
    },
    {
     "name": "stdout",
     "output_type": "stream",
     "text": [
      "NA mean You have not Applied before\n"
     ]
    },
    {
     "name": "stdin",
     "output_type": "stream",
     "text": [
      " 1\n"
     ]
    },
    {
     "ename": "NameError",
     "evalue": "name 'StaleElementReferenceException' is not defined",
     "output_type": "error",
     "traceback": [
      "\u001b[1;31m---------------------------------------------------------------------------\u001b[0m",
      "\u001b[1;31mNoSuchElementException\u001b[0m                    Traceback (most recent call last)",
      "Cell \u001b[1;32mIn[26], line 239\u001b[0m, in \u001b[0;36mEasyApplyLinkedin.quick_apply\u001b[1;34m(self)\u001b[0m\n\u001b[0;32m    237\u001b[0m \u001b[38;5;28;01mtry\u001b[39;00m:\n\u001b[0;32m    238\u001b[0m     \u001b[38;5;66;03m# self.scroll_shim();\u001b[39;00m\n\u001b[1;32m--> 239\u001b[0m     unfollow \u001b[38;5;241m=\u001b[39m \u001b[38;5;28;43mself\u001b[39;49m\u001b[38;5;241;43m.\u001b[39;49m\u001b[43mdriver\u001b[49m\u001b[38;5;241;43m.\u001b[39;49m\u001b[43mfind_element\u001b[49m\u001b[43m(\u001b[49m\u001b[43mBy\u001b[49m\u001b[38;5;241;43m.\u001b[39;49m\u001b[43mXPATH\u001b[49m\u001b[43m,\u001b[49m\u001b[38;5;124;43m\"\u001b[39;49m\u001b[38;5;124;43m//input[@id=\u001b[39;49m\u001b[38;5;124;43m'\u001b[39;49m\u001b[38;5;124;43mfollow-company-checkbox\u001b[39;49m\u001b[38;5;124;43m'\u001b[39;49m\u001b[38;5;124;43m]\u001b[39;49m\u001b[38;5;124;43m\"\u001b[39;49m\u001b[43m)\u001b[49m\n\u001b[0;32m    240\u001b[0m     \u001b[38;5;28;01mif\u001b[39;00m unfollow\u001b[38;5;241m.\u001b[39mis_selected():\n\u001b[0;32m    241\u001b[0m         \u001b[38;5;66;03m#uncheck\u001b[39;00m\n",
      "File \u001b[1;32m~\\AppData\\Local\\Programs\\Python\\Python312\\Lib\\site-packages\\selenium\\webdriver\\remote\\webdriver.py:741\u001b[0m, in \u001b[0;36mWebDriver.find_element\u001b[1;34m(self, by, value)\u001b[0m\n\u001b[0;32m    739\u001b[0m     value \u001b[38;5;241m=\u001b[39m \u001b[38;5;124mf\u001b[39m\u001b[38;5;124m'\u001b[39m\u001b[38;5;124m[name=\u001b[39m\u001b[38;5;124m\"\u001b[39m\u001b[38;5;132;01m{\u001b[39;00mvalue\u001b[38;5;132;01m}\u001b[39;00m\u001b[38;5;124m\"\u001b[39m\u001b[38;5;124m]\u001b[39m\u001b[38;5;124m'\u001b[39m\n\u001b[1;32m--> 741\u001b[0m \u001b[38;5;28;01mreturn\u001b[39;00m \u001b[38;5;28;43mself\u001b[39;49m\u001b[38;5;241;43m.\u001b[39;49m\u001b[43mexecute\u001b[49m\u001b[43m(\u001b[49m\u001b[43mCommand\u001b[49m\u001b[38;5;241;43m.\u001b[39;49m\u001b[43mFIND_ELEMENT\u001b[49m\u001b[43m,\u001b[49m\u001b[43m \u001b[49m\u001b[43m{\u001b[49m\u001b[38;5;124;43m\"\u001b[39;49m\u001b[38;5;124;43musing\u001b[39;49m\u001b[38;5;124;43m\"\u001b[39;49m\u001b[43m:\u001b[49m\u001b[43m \u001b[49m\u001b[43mby\u001b[49m\u001b[43m,\u001b[49m\u001b[43m \u001b[49m\u001b[38;5;124;43m\"\u001b[39;49m\u001b[38;5;124;43mvalue\u001b[39;49m\u001b[38;5;124;43m\"\u001b[39;49m\u001b[43m:\u001b[49m\u001b[43m \u001b[49m\u001b[43mvalue\u001b[49m\u001b[43m}\u001b[49m\u001b[43m)\u001b[49m[\u001b[38;5;124m\"\u001b[39m\u001b[38;5;124mvalue\u001b[39m\u001b[38;5;124m\"\u001b[39m]\n",
      "File \u001b[1;32m~\\AppData\\Local\\Programs\\Python\\Python312\\Lib\\site-packages\\selenium\\webdriver\\remote\\webdriver.py:347\u001b[0m, in \u001b[0;36mWebDriver.execute\u001b[1;34m(self, driver_command, params)\u001b[0m\n\u001b[0;32m    346\u001b[0m \u001b[38;5;28;01mif\u001b[39;00m response:\n\u001b[1;32m--> 347\u001b[0m     \u001b[38;5;28;43mself\u001b[39;49m\u001b[38;5;241;43m.\u001b[39;49m\u001b[43merror_handler\u001b[49m\u001b[38;5;241;43m.\u001b[39;49m\u001b[43mcheck_response\u001b[49m\u001b[43m(\u001b[49m\u001b[43mresponse\u001b[49m\u001b[43m)\u001b[49m\n\u001b[0;32m    348\u001b[0m     response[\u001b[38;5;124m\"\u001b[39m\u001b[38;5;124mvalue\u001b[39m\u001b[38;5;124m\"\u001b[39m] \u001b[38;5;241m=\u001b[39m \u001b[38;5;28mself\u001b[39m\u001b[38;5;241m.\u001b[39m_unwrap_value(response\u001b[38;5;241m.\u001b[39mget(\u001b[38;5;124m\"\u001b[39m\u001b[38;5;124mvalue\u001b[39m\u001b[38;5;124m\"\u001b[39m, \u001b[38;5;28;01mNone\u001b[39;00m))\n",
      "File \u001b[1;32m~\\AppData\\Local\\Programs\\Python\\Python312\\Lib\\site-packages\\selenium\\webdriver\\remote\\errorhandler.py:229\u001b[0m, in \u001b[0;36mErrorHandler.check_response\u001b[1;34m(self, response)\u001b[0m\n\u001b[0;32m    228\u001b[0m     \u001b[38;5;28;01mraise\u001b[39;00m exception_class(message, screen, stacktrace, alert_text)  \u001b[38;5;66;03m# type: ignore[call-arg]  # mypy is not smart enough here\u001b[39;00m\n\u001b[1;32m--> 229\u001b[0m \u001b[38;5;28;01mraise\u001b[39;00m exception_class(message, screen, stacktrace)\n",
      "\u001b[1;31mNoSuchElementException\u001b[0m: Message: no such element: Unable to locate element: {\"method\":\"xpath\",\"selector\":\"//input[@id='follow-company-checkbox']\"}\n  (Session info: chrome=119.0.6045.200); For documentation on this error, please visit: https://www.selenium.dev/documentation/webdriver/troubleshooting/errors#no-such-element-exception\nStacktrace:\n\tGetHandleVerifier [0x00007FF643F382B2+55298]\n\t(No symbol) [0x00007FF643EA5E02]\n\t(No symbol) [0x00007FF643D605AB]\n\t(No symbol) [0x00007FF643DA175C]\n\t(No symbol) [0x00007FF643DA18DC]\n\t(No symbol) [0x00007FF643DDCBC7]\n\t(No symbol) [0x00007FF643DC20EF]\n\t(No symbol) [0x00007FF643DDAAA4]\n\t(No symbol) [0x00007FF643DC1E83]\n\t(No symbol) [0x00007FF643D9670A]\n\t(No symbol) [0x00007FF643D97964]\n\tGetHandleVerifier [0x00007FF6442B0AAB+3694587]\n\tGetHandleVerifier [0x00007FF64430728E+4048862]\n\tGetHandleVerifier [0x00007FF6442FF173+4015811]\n\tGetHandleVerifier [0x00007FF643FD47D6+695590]\n\t(No symbol) [0x00007FF643EB0CE8]\n\t(No symbol) [0x00007FF643EACF34]\n\t(No symbol) [0x00007FF643EAD062]\n\t(No symbol) [0x00007FF643E9D3A3]\n\tBaseThreadInitThunk [0x00007FFFBA65257D+29]\n\tRtlUserThreadStart [0x00007FFFBBB0AA58+40]\n",
      "\nDuring handling of the above exception, another exception occurred:\n",
      "\u001b[1;31mNameError\u001b[0m                                 Traceback (most recent call last)",
      "Cell \u001b[1;32mIn[26], line 182\u001b[0m, in \u001b[0;36mEasyApplyLinkedin.find_offer1\u001b[1;34m(self)\u001b[0m\n\u001b[0;32m    175\u001b[0m             \u001b[38;5;66;03m# d[m]=1\u001b[39;00m\n\u001b[0;32m    176\u001b[0m             \u001b[38;5;66;03m# print('Job Title:', title.text)\u001b[39;00m\n\u001b[0;32m    177\u001b[0m             \u001b[38;5;66;03m# print('Job ID:', job_id)\u001b[39;00m\n\u001b[0;32m    178\u001b[0m \n\u001b[0;32m    179\u001b[0m             \u001b[38;5;66;03m# Add the job ID to the applied_job_ids list\u001b[39;00m\n\u001b[0;32m    180\u001b[0m             \u001b[38;5;66;03m# applied_job_ids.append(job_id)\u001b[39;00m\n\u001b[1;32m--> 182\u001b[0m             \u001b[38;5;28;43mself\u001b[39;49m\u001b[38;5;241;43m.\u001b[39;49m\u001b[43msubmit_apply\u001b[49m\u001b[43m(\u001b[49m\u001b[43mtitle\u001b[49m\u001b[43m)\u001b[49m\n\u001b[0;32m    184\u001b[0m \u001b[38;5;28;01mexcept\u001b[39;00m (StaleElementReferenceException, MoveTargetOutOfBoundsException):\n",
      "Cell \u001b[1;32mIn[26], line 105\u001b[0m, in \u001b[0;36mEasyApplyLinkedin.submit_apply\u001b[1;34m(self, job_add)\u001b[0m\n\u001b[0;32m    104\u001b[0m \u001b[38;5;28;01mif\u001b[39;00m r\u001b[38;5;241m==\u001b[39m\u001b[38;5;241m1\u001b[39m:\n\u001b[1;32m--> 105\u001b[0m     \u001b[38;5;28;43mself\u001b[39;49m\u001b[38;5;241;43m.\u001b[39;49m\u001b[43mquick_apply\u001b[49m\u001b[43m(\u001b[49m\u001b[43m)\u001b[49m\n\u001b[0;32m    106\u001b[0m     time\u001b[38;5;241m.\u001b[39msleep(\u001b[38;5;241m1\u001b[39m)\n",
      "Cell \u001b[1;32mIn[26], line 259\u001b[0m, in \u001b[0;36mEasyApplyLinkedin.quick_apply\u001b[1;34m(self)\u001b[0m\n\u001b[0;32m    257\u001b[0m         time\u001b[38;5;241m.\u001b[39msleep(\u001b[38;5;241m1\u001b[39m)\n\u001b[1;32m--> 259\u001b[0m \u001b[38;5;28;01mexcept\u001b[39;00m (\u001b[43mNoSuchElementException\u001b[49m, StaleElementReferenceException, MoveTargetOutOfBoundsException):\n\u001b[0;32m    260\u001b[0m     \u001b[38;5;28mprint\u001b[39m(\u001b[38;5;124m'\u001b[39m\u001b[38;5;124mhoooo\u001b[39m\u001b[38;5;124m'\u001b[39m)\n",
      "\u001b[1;31mNameError\u001b[0m: name 'NoSuchElementException' is not defined",
      "\nDuring handling of the above exception, another exception occurred:\n",
      "\u001b[1;31mNameError\u001b[0m                                 Traceback (most recent call last)",
      "Cell \u001b[1;32mIn[26], line 355\u001b[0m\n\u001b[0;32m    351\u001b[0m \u001b[38;5;28;01mif\u001b[39;00m \u001b[38;5;18m__name__\u001b[39m \u001b[38;5;241m==\u001b[39m \u001b[38;5;124m'\u001b[39m\u001b[38;5;124m__main__\u001b[39m\u001b[38;5;124m'\u001b[39m:\n\u001b[0;32m    354\u001b[0m     bot \u001b[38;5;241m=\u001b[39m EasyApplyLinkedin(data)\n\u001b[1;32m--> 355\u001b[0m     \u001b[43mbot\u001b[49m\u001b[38;5;241;43m.\u001b[39;49m\u001b[43mapply\u001b[49m\u001b[43m(\u001b[49m\u001b[43m)\u001b[49m\n",
      "Cell \u001b[1;32mIn[26], line 347\u001b[0m, in \u001b[0;36mEasyApplyLinkedin.apply\u001b[1;34m(self)\u001b[0m\n\u001b[0;32m    342\u001b[0m time\u001b[38;5;241m.\u001b[39msleep(\u001b[38;5;241m2\u001b[39m)\n\u001b[0;32m    343\u001b[0m \u001b[38;5;66;03m# self.job_search1()\u001b[39;00m\n\u001b[0;32m    344\u001b[0m \u001b[38;5;66;03m# time.sleep(2)\u001b[39;00m\n\u001b[0;32m    345\u001b[0m \n\u001b[0;32m    346\u001b[0m \u001b[38;5;66;03m# time.sleep(2)\u001b[39;00m\n\u001b[1;32m--> 347\u001b[0m \u001b[38;5;28;43mself\u001b[39;49m\u001b[38;5;241;43m.\u001b[39;49m\u001b[43mfind_offer1\u001b[49m\u001b[43m(\u001b[49m\u001b[43m)\u001b[49m\n\u001b[0;32m    348\u001b[0m time\u001b[38;5;241m.\u001b[39msleep(\u001b[38;5;241m2\u001b[39m)\n\u001b[0;32m    349\u001b[0m \u001b[38;5;28mself\u001b[39m\u001b[38;5;241m.\u001b[39mclose_session()\n",
      "Cell \u001b[1;32mIn[26], line 184\u001b[0m, in \u001b[0;36mEasyApplyLinkedin.find_offer1\u001b[1;34m(self)\u001b[0m\n\u001b[0;32m    175\u001b[0m                 \u001b[38;5;66;03m# d[m]=1\u001b[39;00m\n\u001b[0;32m    176\u001b[0m                 \u001b[38;5;66;03m# print('Job Title:', title.text)\u001b[39;00m\n\u001b[0;32m    177\u001b[0m                 \u001b[38;5;66;03m# print('Job ID:', job_id)\u001b[39;00m\n\u001b[0;32m    178\u001b[0m \n\u001b[0;32m    179\u001b[0m                 \u001b[38;5;66;03m# Add the job ID to the applied_job_ids list\u001b[39;00m\n\u001b[0;32m    180\u001b[0m                 \u001b[38;5;66;03m# applied_job_ids.append(job_id)\u001b[39;00m\n\u001b[0;32m    182\u001b[0m                 \u001b[38;5;28mself\u001b[39m\u001b[38;5;241m.\u001b[39msubmit_apply(title)\n\u001b[1;32m--> 184\u001b[0m     \u001b[38;5;28;01mexcept\u001b[39;00m (\u001b[43mStaleElementReferenceException\u001b[49m, MoveTargetOutOfBoundsException):\n\u001b[0;32m    185\u001b[0m         \u001b[38;5;28;01mpass\u001b[39;00m\n\u001b[0;32m    187\u001b[0m \u001b[38;5;66;03m# ...\u001b[39;00m\n\u001b[0;32m    188\u001b[0m \n\u001b[0;32m    189\u001b[0m \u001b[38;5;66;03m# go through all available pages and job offers and apply\u001b[39;00m\n",
      "\u001b[1;31mNameError\u001b[0m: name 'StaleElementReferenceException' is not defined"
     ]
    }
   ],
   "source": [
    "\n",
    "\n",
    "import time\n",
    "from selenium import webdriver\n",
    "from selenium.webdriver.common.by import By\n",
    "from selenium.webdriver.common.action_chains import ActionChains\n",
    "\n",
    "\n",
    "class EasyApplyLinkedin:\n",
    "\n",
    "    def __init__(self, data):\n",
    "        \"\"\"Parameter initialization\"\"\"\n",
    "\n",
    "        self.email = data['email']\n",
    "        self.password = data['password']\n",
    "        self.keywords = data['keywords']\n",
    "        self.location = data['location']\n",
    "        self.driver = webdriver.Chrome()\n",
    "        self.phone = data['phoneNo']\n",
    "\n",
    "    \n",
    "    def login_linkedin(self):\n",
    "        \n",
    "        LINK = \"https://www.linkedin.com/jobs/search/?currentJobId=3765114095&distance=25&f_AL=true&geoId=102713980\" + f\"&keywords={self.keywords}\" + \"&origin=JOBS_HOME_SEARCH_CARDS\"\n",
    "        # driver = webdriver.Chrome()\n",
    "        self.driver.get(LINK)\n",
    "      \n",
    "        sign_in = self.driver.find_element(By.XPATH, \"./html/body/div[1]/header/nav/div/a[2]\")\n",
    "        sign_in.click()\n",
    "        \n",
    "        username = self.driver.find_element(By.ID, \"username\")\n",
    "        username.send_keys(self.email)\n",
    "        \n",
    "        password = self.driver.find_element(By.ID, \"password\")\n",
    "        password.send_keys(self.password)\n",
    "        \n",
    "        sign_in_button = self.driver.find_element(By.CSS_SELECTOR, \".login__form_action_container  button\")\n",
    "        sign_in_button.click()\n",
    "        time.sleep(2)\n",
    "        easy_apply = '?f_AL=true&f_WT=2&geoId=92000000'\n",
    "        # driver.get('https://www.linkedin.com/jobs/search/'+ easy_apply +'&keywords='+ self.keywords +'&location=' + self.location)\n",
    "        # job_link = self.driver.get('https://www.linkedin.com/jobs/search/'+ easy_apply +'&keywords='+ self.keywords +'&location=' + self.location)\n",
    "        \n",
    "        time.sleep(3)\n",
    "      \n",
    "    def job_search(self):\n",
    "        \"\"\"This function goes to the 'Jobs' section and looks for all the jobs that match the keywords and location\"\"\"\n",
    "\n",
    "        # go to Jobs\n",
    "        self.driver.get(\"https://www.linkedin.com/jobs\")\n",
    "\n",
    "        # search based on keywords and location and hit enter\n",
    "        search_keywords = self.driver.find_element(By.CSS_SELECTOR, \"input[aria-label='Search by title, skill, or company']\")\n",
    "        search_keywords.clear()\n",
    "        search_keywords.send_keys(self.keywords)\n",
    "        time.sleep(3)\n",
    "        search_location=search_keywords.send_keys(Keys.TAB)\n",
    "        search_location=search_keywords.send_keys(Keys.RETURN)\n",
    "        # search_location.send_keys(self.location)\n",
    "        # search_location.send_keys(Keys.RETURN)\n",
    "        time.sleep(3)\n",
    "\n",
    "    def filter(self):\n",
    "        \"\"\"This function filters all the job results by 'Easy Apply'\"\"\"\n",
    "\n",
    "        # select all filters, click on Easy Apply, and apply the filter\n",
    "        all_filters_button = self.driver.find_element(By.XPATH, \"//button[@data-control-name='all_filters']\")\n",
    "        all_filters_button.click()\n",
    "        time.sleep(1)\n",
    "        easy_apply_button = self.driver.find_element(By.XPATH, \"//label[@for='f_AL']\")\n",
    "        easy_apply_button.click()\n",
    "        time.sleep(2)\n",
    "        apply_filter_button = self.driver.find_element(By.XPATH, \"//button[@data-control-name='all_filters_apply']\")\n",
    "        apply_filter_button.click()\n",
    "\n",
    "\n",
    "    def submit_apply(self,job_add):\n",
    "        \"\"\"This function submits the application for the job add found\"\"\"\n",
    "\n",
    "        print('You are applying to the position of: ', job_add.text)\n",
    "        job_add.click()\n",
    "        time.sleep(2)\n",
    "\n",
    "        # click on the easy apply button, skip if already applied to the position\n",
    "        o=input()\n",
    "        \n",
    "        if o==\"NA\":\n",
    "            print(\"NA \" + \"mean \" + \"You have not Applied before\")\n",
    "            time.sleep(2)\n",
    "            in_apply = self.driver.find_element(By.XPATH,\"//button[@data-job-id]\")\n",
    "            in_apply.click()\n",
    "\n",
    "        else:\n",
    "            print(\"A \" + \"mean \" + \"Already Applied\")\n",
    "            time.sleep(2)\n",
    "            print('You already applied to this job, go to next...')\n",
    "            return\n",
    "\n",
    "        # print('Loop break')\n",
    "        time.sleep(1)\n",
    "        r=int(input())\n",
    "\n",
    "        #Case for applications\n",
    "        if r==1:\n",
    "            self.quick_apply()\n",
    "            time.sleep(1)\n",
    "        \n",
    "        elif r==2:\n",
    "            self.quick_apply_next()\n",
    "            time.sleep(1)\n",
    "        else:    \n",
    "            self.discard_method()\n",
    "            time.sleep(1)\n",
    "    def scroll_shim(self):\n",
    "\n",
    "      lenOfPage = self.driver.execute_script(\"window.scrollTo(0, document.body.scrollHeight);var lenOfPage=document.body.scrollHeight;return lenOfPage;\")\n",
    "      match=False\n",
    "      while(match==False):\n",
    "          lastCount = lenOfPage\n",
    "          time.sleep(3)\n",
    "          lenOfPage = self.driver.execute_script(\"window.scrollTo(0, document.body.scrollHeight);var lenOfPage=document.body.scrollHeight;return lenOfPage;\")\n",
    "          if lastCount == lenOfPage:\n",
    "              match=True\n",
    "\n",
    "\n",
    "    def find_offer1(self):\n",
    "        \"\"\"This function finds all the offers through all the pages result of the search and filter\"\"\"\n",
    "\n",
    "        # Define a list to store applied job IDs\n",
    "        applied_job_ids = []\n",
    "\n",
    "        time.sleep(3)\n",
    "        # find the total amount of results (if the results are above 24-more than one page-, we will scroll through all available pages)\n",
    "        total_results = self.driver.find_element(By.CLASS_NAME, \"display-flex.t-12.t-black--light.t-normal\")\n",
    "        total_results_int = int(total_results.text.split(' ', 1)[0].replace(\",\", \"\"))\n",
    "        print(\"total result: \",total_results_int)\n",
    "\n",
    "        # ...\n",
    "\n",
    "        time.sleep(2)\n",
    "        # get results for the first page\n",
    "        current_page = self.driver.current_url\n",
    "\n",
    "        results = self.driver.find_elements(By.CLASS_NAME,\"ember-view.jobs-search-results__list-item.occludable-update.p0.relative\")\n",
    "\n",
    "        # for each job add, submits application if no questions asked\n",
    "\n",
    "        # for each job add, submits application if no questions asked\n",
    "        for result in results:\n",
    "            self.scroll_shim()\n",
    "            time.sleep(2)\n",
    "\n",
    "            try:\n",
    "                hover = ActionChains(self.driver).move_to_element(result)\n",
    "                hover.perform()\n",
    "                time.sleep(1)\n",
    "                titles = result.find_elements(By.CLASS_NAME, 'full-width.artdeco-entity-lockup__title.ember-view')\n",
    "                for title in titles:\n",
    "                    job_id = title.get_attribute(\"data-occludable-job-id\")\n",
    "                    # print(job_id,\"hhhhhhhhhh\")\n",
    "                    # Check if the job ID is already in the applied_job_ids list\n",
    "                    if job_id not in applied_job_ids:\n",
    "                        job_title = title.text.strip()\n",
    "                        job_id = title.find_element(By.CSS_SELECTOR, 'a').get_attribute(\"data-control-id\")\n",
    "                        time.sleep(1)\n",
    "                        # m=self.driver.current_url\n",
    "\n",
    "                        print(\"==========================================\")\n",
    "                        print(\"\")\n",
    "                        print('Job Title:', job_title, )\n",
    "\n",
    "                        # print('Job ID:', job_id)\n",
    "                        time.sleep(1)\n",
    "                        \n",
    "                        # d[m]=1\n",
    "                        # print('Job Title:', title.text)\n",
    "                        # print('Job ID:', job_id)\n",
    "\n",
    "                        # Add the job ID to the applied_job_ids list\n",
    "                        # applied_job_ids.append(job_id)\n",
    "\n",
    "                        self.submit_apply(title)\n",
    "\n",
    "            except (StaleElementReferenceException, MoveTargetOutOfBoundsException):\n",
    "                pass\n",
    "\n",
    "        # ...\n",
    "\n",
    "        # go through all available pages and job offers and apply\n",
    "        for page_number in range(25, total_jobs + 25, 25):\n",
    "            self.driver.get(current_page + '&start=' + str(page_number))\n",
    "            time.sleep(3)\n",
    "            results_ext = self.driver.find_elements(By.CLASS_NAME, \"ember-view.jobs-search-results__list-item.occludable-update.p0.relative\")\n",
    "\n",
    "            for result_ext in results_ext:\n",
    "                self.scroll_shim()\n",
    "                time.sleep(2)\n",
    "                try:\n",
    "                    hover_ext = ActionChains(self.driver).move_to_element(result_ext)\n",
    "                    hover_ext.perform()\n",
    "                    time.sleep(1)\n",
    "                    titles_ext = result_ext.find_elements(By.CLASS_NAME, 'full-width.artdeco-entity-lockup__title.ember-view')\n",
    "                    for title_ext in titles_ext:\n",
    "                        job_id = title_ext.get_attribute(\"data-occludable-job-id\")\n",
    "\n",
    "                        # Check if the job ID is already in the applied_job_ids list\n",
    "                        if job_id not in applied_job_ids:\n",
    "                            self.submit_apply(title_ext)\n",
    "\n",
    "                            # Add the job ID to the applied_job_ids list\n",
    "                            applied_job_ids.append(job_id)\n",
    "\n",
    "                except (StaleElementReferenceException, MoveTargetOutOfBoundsException):\n",
    "                    pass\n",
    "\n",
    "        else:\n",
    "            self.close_session()\n",
    "\n",
    "\n",
    "    def discard_method(self):\n",
    "        #Does not have quick application\n",
    "        try:\n",
    "            discard = self.driver.find_element(By.XPATH,\"//button[@data-test-modal-close-btn]\")\n",
    "            discard.send_keys(Keys.RETURN)\n",
    "            time.sleep(1)\n",
    "            discard_confirm = self.driver.find_element(By.XPATH,\"//button[@data-test-dialog-secondary-btn]\")\n",
    "            discard_confirm.send_keys(Keys.RETURN)\n",
    "            time.sleep(1)\n",
    "            print('Not direct application, going to next...')\n",
    "        except (NoSuchElementException, StaleElementReferenceException, MoveTargetOutOfBoundsException):\n",
    "            return\n",
    "    #case 1: Submit\n",
    "    def quick_apply(self):\n",
    "        # try to submit if submit application is available...\n",
    "        #quick_apply\n",
    "\n",
    "        try:\n",
    "            # self.scroll_shim();\n",
    "            # unfollow = self.driver.find_element(By.XPATH,\"//input[@id='follow-company-checkbox']\")\n",
    "            # if unfollow.is_selected():\n",
    "            #     #uncheck\n",
    "            #     self.driver.execute_script(\"arguments[0].click();\",unfollow)\n",
    "            time.sleep(1)\n",
    "            submit = self.driver.find_element(By.XPATH,\"//button[@aria-label='Submit application']\")\n",
    "            submit.click()\n",
    "            time.sleep(1)\n",
    "            print('Your application is successful...')\n",
    "\n",
    "            try:\n",
    "                done_button = self.driver.find_element(By.XPATH,\"//button[@id]\")\n",
    "                done_button.click()\n",
    "                time.sleep(1)\n",
    "\n",
    "            except (NoSuchElementException, StaleElementReferenceException, MoveTargetOutOfBoundsException):\n",
    "                discard_applied = self.driver.find_element(By.XPATH,\"//button[@data-test-modal-close-btn]\")\n",
    "                discard_applied.send_keys(Keys.RETURN)\n",
    "                time.sleep(1)\n",
    "\n",
    "        except (NoSuchElementException, StaleElementReferenceException, MoveTargetOutOfBoundsException):\n",
    "            print('hoooo')\n",
    "            return\n",
    "\n",
    "    time.sleep(1)\n",
    "    #case 2: Submit+Next\n",
    "    def quick_apply_next(self):\n",
    "        # try to submit if submit application is available...\n",
    "        #quick_apply_next\n",
    "        time.sleep(1)\n",
    "        try:\n",
    "            field = self.driver.find_elements(By.CSS_SELECTOR, \".artdeco-text-input .artdeco-text-input--input, .artdeco-text-input .artdeco-text-input--search\")\n",
    "            for input_field in field:\n",
    "                if input_field.get_attribute(\"value\") == \"\":\n",
    "                    input_field.send_keys(self.phone)\n",
    "\n",
    "\n",
    "            while(True):\n",
    "                d=input()\n",
    "                if d=='x': # Next Button\n",
    "                    \n",
    "                    next_button = self.driver.find_element(By.CLASS_NAME, \"artdeco-button.artdeco-button--2.artdeco-button--primary.ember-view\")\n",
    "                    next_button.click()\n",
    "                    \n",
    "                elif d=='r': # Review Button\n",
    "                     \n",
    "                    time.sleep(1)\n",
    "                    # Question_section\n",
    "                    Question_Label = self.driver.find_elements(By.CSS_SELECTOR,\".artdeco-text-input .artdeco-text-input--label\")\n",
    "                    labels = []\n",
    "                    for label in Question_Label:\n",
    "                        labels.append(label.text)\n",
    "                \n",
    "                    answer = self.driver.find_elements(By.CSS_SELECTOR, \".artdeco-text-input .artdeco-text-input--input, .artdeco-text-input .artdeco-text-input--input:required:invalid, .artdeco-text-input .artdeco-text-input--input:required:valid, .artdeco-text-input .artdeco-text-input--search, .artdeco-text-input .artdeco-text-input--search:required:invalid, .artdeco-text-input .artdeco-text-input--search:required:valid\")\n",
    "                    index = 0\n",
    "                    for ans in answer:\n",
    "                        ans.send_keys(input(labels[index]))\n",
    "                        index += 1\n",
    "                \n",
    "                    time.sleep(1)\n",
    "                    review_button = self.driver.find_element(By.CLASS_NAME, \"artdeco-button.artdeco-button--2.artdeco-button--primary.ember-view\")\n",
    "                    review_button.click()\n",
    "\n",
    "                    time.sleep(1)\n",
    "                    submit_button = self.driver.find_element(By.CLASS_NAME, \"artdeco-button.artdeco-button--2.artdeco-button--primary.ember-view\")\n",
    "                    submit_button.click()\n",
    "                    time.sleep(2)\n",
    "                    print('Next option selected, your application is successful...')\n",
    "                    break\n",
    "                else:\n",
    "                    time.sleep(1)\n",
    "                    submit_button = self.driver.find_element(By.CLASS_NAME, \"artdeco-button.artdeco-button--2.artdeco-button--primary.ember-view\")\n",
    "                    submit_button.click()\n",
    "                    time.sleep(2)\n",
    "                    print('Next option selected, your application is successful...')\n",
    "\n",
    "            \n",
    "        \n",
    "            \n",
    "            try:\n",
    "                done_button_next = self.driver.find_element(By.XPATH,\"//button[@id]\")\n",
    "                done_button_next.click()\n",
    "                time.sleep(1)\n",
    "\n",
    "            except (NoSuchElementException, StaleElementReferenceException, MoveTargetOutOfBoundsException):\n",
    "                discard_applied_next = self.driver.find_element(By.XPATH,\"//button[@data-test-modal-close-btn]\")\n",
    "                discard_applied_next.send_keys(Keys.RETURN)\n",
    "                time.sleep(1)\n",
    "\n",
    "        except (NoSuchElementException,StaleElementReferenceException, MoveTargetOutOfBoundsException):\n",
    "            pass\n",
    "    def close_session(self):\n",
    "        \"\"\"This function closes the actual session\"\"\"\n",
    "\n",
    "        print('End of the session, see you later!')\n",
    "        self.driver.close()\n",
    "\n",
    "\n",
    "    def apply(self):\n",
    "        \"\"\"Apply to job offers\"\"\"\n",
    "\n",
    "        \n",
    "        self.login_linkedin()\n",
    "        time.sleep(2)\n",
    "        # self.job_search1()\n",
    "        # time.sleep(2)\n",
    "\n",
    "        # time.sleep(2)\n",
    "        self.find_offer1()\n",
    "        time.sleep(2)\n",
    "        self.close_session()\n",
    "\n",
    "if __name__ == '__main__':\n",
    "\n",
    "\n",
    "    bot = EasyApplyLinkedin(data)\n",
    "    bot.apply()\n"
   ]
  },
  {
   "cell_type": "code",
   "execution_count": null,
   "metadata": {
    "colab": {
     "base_uri": "https://localhost:8080/",
     "height": 383
    },
    "id": "5MTSZBRVUiKC",
    "outputId": "63be6f9a-1a66-4419-8178-19ba974ff5bd"
   },
   "outputs": [],
   "source": [
    "import time,math,random,os\n",
    "import utils,constants,config\n",
    "\n",
    "from selenium import webdriver\n",
    "from selenium.webdriver.common.by import By\n",
    "from utils import prRed,prYellow,prGreen\n",
    "\n",
    "from webdriver_manager.chrome import ChromeDriverManager\n",
    "from selenium.webdriver.chrome.service import Service as ChromeService\n",
    "\n",
    "class Linkedin:\n",
    "    def __init__(self):\n",
    "\n",
    "            prYellow(\"🌐 Bot will run in Chrome browser and log in Linkedin for you.\")\n",
    "            self.driver = webdriver.Chrome(service=ChromeService(ChromeDriverManager().install()),options=utils.chromeBrowserOptions())\n",
    "            self.driver.get(\"https://www.linkedin.com/login?trk=guest_homepage-basic_nav-header-signin\")\n",
    "\n",
    "            prYellow(\"🔄 Trying to log in linkedin...\")\n",
    "            try:\n",
    "                self.driver.find_element(\"id\",\"username\").send_keys('maliksakshi248@gmail.com')\n",
    "                time.sleep(2)\n",
    "                self.driver.find_element(\"id\",\"password\").send_keys('malik123@')\n",
    "                time.sleep(2)\n",
    "                self.driver.find_element(\"xpath\",'//button[@type=\"submit\"]').click()\n",
    "                time.sleep(5)\n",
    "                self.mongoConnection(\"Check\")\n",
    "            except:\n",
    "                prRed(\"❌ Couldn't log in Linkedin by using Chrome. Please check your Linkedin credentials on config files line 7 and 8. If error continue you can define Chrome profile or run the bot on Firefox\")\n",
    "\n",
    "\n",
    "\n",
    "    def generateUrls(self):\n",
    "        if not os.path.exists('data'):\n",
    "            os.makedirs('data')\n",
    "        try:\n",
    "            with open('data/urlData.txt', 'w',encoding=\"utf-8\" ) as file:\n",
    "                linkedinJobLinks = utils.LinkedinUrlGenerate().generateUrlLinks()\n",
    "                for url in linkedinJobLinks:\n",
    "                    file.write(url+ \"\\n\")\n",
    "            prGreen(\"✅ Urls are created successfully, now the bot will visit those urls.\")\n",
    "        except:\n",
    "            prRed(\"❌ Couldn't generate url, make sure you have /data folder and modified config.py file for your preferances.\")\n",
    "\n",
    "    def linkJobApply(self):\n",
    "        self.generateUrls()\n",
    "        countApplied = 0\n",
    "        countJobs = 0\n",
    "\n",
    "        urlData = utils.getUrlDataFile()\n",
    "\n",
    "        for url in urlData:\n",
    "            self.driver.get(url)\n",
    "\n",
    "            totalJobs = self.driver.find_element(By.XPATH,'//small').text\n",
    "            totalPages = utils.jobsToPages(totalJobs)\n",
    "\n",
    "            urlWords =  utils.urlToKeywords(url)\n",
    "            lineToWrite = \"\\n Category: \" + urlWords[0] + \", Location: \" +urlWords[1] + \", Applying \" +str(totalJobs)+ \" jobs.\"\n",
    "            self.displayWriteResults(lineToWrite)\n",
    "\n",
    "            for page in range(totalPages):\n",
    "                currentPageJobs = constants.jobsPerPage * page\n",
    "                url = url +\"&start=\"+ str(currentPageJobs)\n",
    "                self.driver.get(url)\n",
    "                time.sleep(random.uniform(1, constants.botSpeed))\n",
    "\n",
    "                offersPerPage = self.driver.find_elements(By.XPATH,'//li[@data-occludable-job-id]')\n",
    "                offerIds = []\n",
    "\n",
    "                time.sleep(random.uniform(1, constants.botSpeed))\n",
    "\n",
    "                for offer in offersPerPage:\n",
    "                    offerId = offer.get_attribute(\"data-occludable-job-id\")\n",
    "                    offerIds.append(int(offerId.split(\":\")[-1]))\n",
    "\n",
    "                for jobID in offerIds:\n",
    "                    offerPage = 'https://www.linkedin.com/jobs/view/' + str(jobID)\n",
    "                    self.driver.get(offerPage)\n",
    "                    time.sleep(random.uniform(1, constants.botSpeed))\n",
    "\n",
    "                    countJobs += 1\n",
    "\n",
    "                    jobProperties = self.getJobProperties(countJobs)\n",
    "                    if \"blacklisted\" in jobProperties:\n",
    "                        lineToWrite = jobProperties + \" | \" + \"* 🤬 Blacklisted Job, skipped!: \" +str(offerPage)\n",
    "                        self.displayWriteResults(lineToWrite)\n",
    "\n",
    "                    else :\n",
    "                        button = self.easyApplyButton()\n",
    "\n",
    "                        if button is not False:\n",
    "                            button.click()\n",
    "                            time.sleep(random.uniform(1, constants.botSpeed))\n",
    "                            countApplied += 1\n",
    "                            try:\n",
    "                                self.chooseResume()\n",
    "                                self.driver.find_element(By.CSS_SELECTOR, \"button[aria-label='Submit application']\").click()\n",
    "                                time.sleep(random.uniform(1, constants.botSpeed))\n",
    "\n",
    "                                lineToWrite = jobProperties + \" | \" + \"* 🥳 Just Applied to this job: \"  +str(offerPage)\n",
    "                                self.displayWriteResults(lineToWrite)\n",
    "\n",
    "                            except:\n",
    "                                try:\n",
    "                                    self.driver.find_element(By.CSS_SELECTOR,\"button[aria-label='Continue to next step']\").click()\n",
    "                                    time.sleep(random.uniform(1, constants.botSpeed))\n",
    "\n",
    "                                    comPercentage = self.driver.find_element(By.XPATH,'html/body/div[3]/div/div/div[2]/div/div/span').text\n",
    "                                    percenNumber = int(comPercentage[0:comPercentage.index(\"%\")])\n",
    "                                    result = self.applyProcess(percenNumber,offerPage)\n",
    "                                    lineToWrite = jobProperties + \" | \" + result\n",
    "                                    self.displayWriteResults(lineToWrite)\n",
    "\n",
    "                                except Exception as e:\n",
    "                                    self.chooseResume()\n",
    "                                    lineToWrite = jobProperties + \" | \" + \"* 🥵 Cannot apply to this Job! \" +str(offerPage)\n",
    "                                    self.displayWriteResults(lineToWrite)\n",
    "                        else:\n",
    "                            lineToWrite = jobProperties + \" | \" + \"* 🥳 Already applied! Job: \" +str(offerPage)\n",
    "                            self.displayWriteResults(lineToWrite)\n",
    "\n",
    "\n",
    "            prYellow(\"Category: \" + urlWords[0] + \",\" +urlWords[1]+ \" applied: \" + str(countApplied) +\n",
    "                  \" jobs out of \" + str(countJobs) + \".\")\n",
    "\n",
    "        utils.donate(self)\n",
    "\n",
    "    def chooseResume(self):\n",
    "        try:\n",
    "            beSureIncludeResumeTxt = self.driver.find_element(By.CLASS_NAME, \"jobs-document-upload__title--is-required\")\n",
    "            if(beSureIncludeResumeTxt.text == \"Be sure to include an updated resume\"):\n",
    "                resumes = self.driver.find_elements(By.CSS_SELECTOR,\"button[aria-label='Choose Resume']\")\n",
    "                if(len(resumes) == 1):\n",
    "                    resumes[0].click()\n",
    "                elif(len(resumes)>1):\n",
    "                    resumes[config.preferredCv-1].click()\n",
    "                else:\n",
    "                    prRed(\"❌ No resume has been selected please add at least one resume to your Linkedin account.\")\n",
    "        except:\n",
    "            pass\n",
    "\n",
    "    def getJobProperties(self, count):\n",
    "        textToWrite = \"\"\n",
    "        jobTitle = \"\"\n",
    "        jobCompany = \"\"\n",
    "        jobLocation = \"\"\n",
    "        jobWOrkPlace = \"\"\n",
    "        jobPostedDate = \"\"\n",
    "        jobApplications = \"\"\n",
    "\n",
    "        try:\n",
    "            jobTitle = self.driver.find_element(By.XPATH,\"//h1[contains(@class, 'job-title')]\").get_attribute(\"innerHTML\").strip()\n",
    "            res = [blItem for blItem in config.blackListTitles if(blItem.lower() in jobTitle.lower())]\n",
    "            if (len(res)>0):\n",
    "                jobTitle += \"(blacklisted title: \"+ ' '.join(res)+ \")\"\n",
    "        except Exception as e:\n",
    "            if(config.displayWarnings):\n",
    "                prYellow(\"⚠️ Warning in getting jobTitle: \" +str(e)[0:50])\n",
    "            jobTitle = \"\"\n",
    "\n",
    "        try:\n",
    "            jobCompany = self.driver.find_element(By.XPATH,\"//a[contains(@class, 'ember-view t-black t-normal')]\").get_attribute(\"innerHTML\").strip()\n",
    "            res = [blItem for blItem in config.blacklistCompanies if(blItem.lower() in jobTitle.lower())]\n",
    "            if (len(res)>0):\n",
    "                jobCompany += \"(blacklisted company: \"+ ' '.join(res)+ \")\"\n",
    "        except Exception as e:\n",
    "            if(config.displayWarnings):\n",
    "                prYellow(\"⚠️ Warning in getting jobCompany: \" +str(e)[0:50])\n",
    "            jobCompany = \"\"\n",
    "\n",
    "        try:\n",
    "            jobLocation = self.driver.find_element(By.XPATH,\"//span[contains(@class, 'bullet')]\").get_attribute(\"innerHTML\").strip()\n",
    "        except Exception as e:\n",
    "            if(config.displayWarnings):\n",
    "                prYellow(\"⚠️ Warning in getting jobLocation: \" +str(e)[0:50])\n",
    "            jobLocation = \"\"\n",
    "\n",
    "        try:\n",
    "            jobWOrkPlace = self.driver.find_element(By.XPATH,\"//span[contains(@class, 'workplace-type')]\").get_attribute(\"innerHTML\").strip()\n",
    "        except Exception as e:\n",
    "            if(config.displayWarnings):\n",
    "                prYellow(\"⚠️ Warning in getting jobWorkPlace: \" +str(e)[0:50])\n",
    "            jobWOrkPlace = \"\"\n",
    "\n",
    "        try:\n",
    "            jobPostedDate = self.driver.find_element(By.XPATH,\"//span[contains(@class, 'posted-date')]\").get_attribute(\"innerHTML\").strip()\n",
    "        except Exception as e:\n",
    "            if(config.displayWarnings):\n",
    "                prYellow(\"⚠️ Warning in getting jobPostedDate: \" +str(e)[0:50])\n",
    "            jobPostedDate = \"\"\n",
    "\n",
    "        try:\n",
    "            jobApplications= self.driver.find_element(By.XPATH,\"//span[contains(@class, 'applicant-count')]\").get_attribute(\"innerHTML\").strip()\n",
    "        except Exception as e:\n",
    "            if(config.displayWarnings):\n",
    "                prYellow(\"⚠️ Warning in getting jobApplications: \" +str(e)[0:50])\n",
    "            jobApplications = \"\"\n",
    "\n",
    "        textToWrite = str(count)+ \" | \" +jobTitle+  \" | \" +jobCompany+  \" | \"  +jobLocation+ \" | \"  +jobWOrkPlace+ \" | \" +jobPostedDate+ \" | \" +jobApplications\n",
    "        return textToWrite\n",
    "\n",
    "    def easyApplyButton(self):\n",
    "        try:\n",
    "            time.sleep(random.uniform(1, constants.botSpeed))\n",
    "            button = self.driver.find_element(By.XPATH,\n",
    "                '//button[contains(@class, \"jobs-apply-button\")]')\n",
    "            EasyApplyButton = button\n",
    "        except:\n",
    "            EasyApplyButton = False\n",
    "\n",
    "        return EasyApplyButton\n",
    "\n",
    "    def applyProcess(self, percentage, offerPage):\n",
    "        applyPages = math.floor(100 / percentage)\n",
    "        result = \"\"\n",
    "        try:\n",
    "            for pages in range(applyPages-2):\n",
    "                self.driver.find_element(By.CSS_SELECTOR,\"button[aria-label='Continue to next step']\").click()\n",
    "                time.sleep(random.uniform(1, constants.botSpeed))\n",
    "\n",
    "            self.driver.find_element(By.CSS_SELECTOR,\"button[aria-label='Review your application']\").click()\n",
    "            time.sleep(random.uniform(1, constants.botSpeed))\n",
    "\n",
    "            if config.followCompanies is False:\n",
    "                self.driver.find_element(By.CSS_SELECTOR,\"label[for='follow-company-checkbox']\").click()\n",
    "                time.sleep(random.uniform(1, constants.botSpeed))\n",
    "\n",
    "            self.driver.find_element(By.CSS_SELECTOR,\"button[aria-label='Submit application']\").click()\n",
    "            time.sleep(random.uniform(1, constants.botSpeed))\n",
    "\n",
    "            result = \"* 🥳 Just Applied to this job: \" +str(offerPage)\n",
    "        except:\n",
    "            # PRO FEATURE! OUTPUT UNANSWERED QUESTIONS, APPLY THEM VIA OPENAI, output them.\n",
    "            result = \"* 🥵 \" +str(applyPages)+ \" Pages, couldn't apply to this job! Extra info needed. Link: \" +str(offerPage)\n",
    "        return result\n",
    "\n",
    "    def displayWriteResults(self,lineToWrite: str):\n",
    "        try:\n",
    "            print(lineToWrite)\n",
    "            utils.writeResults(lineToWrite)\n",
    "        except Exception as e:\n",
    "            prRed(\"❌ Error in DisplayWriteResults: \" +str(e))\n",
    "\n",
    "start = time.time()\n",
    "Linkedin().linkJobApply()\n",
    "end = time.time()\n",
    "prYellow(\"---Took: \" + str(round((time.time() - start)/60)) + \" minute(s).\")"
   ]
  },
  {
   "cell_type": "code",
   "execution_count": null,
   "metadata": {
    "id": "4iCcrAHFUiKH"
   },
   "outputs": [],
   "source": []
  }
 ],
 "metadata": {
  "accelerator": "GPU",
  "colab": {
   "gpuType": "T4",
   "include_colab_link": true,
   "provenance": []
  },
  "kernelspec": {
   "display_name": "Python 3 (ipykernel)",
   "language": "python",
   "name": "python3"
  },
  "language_info": {
   "codemirror_mode": {
    "name": "ipython",
    "version": 3
   },
   "file_extension": ".py",
   "mimetype": "text/x-python",
   "name": "python",
   "nbconvert_exporter": "python",
   "pygments_lexer": "ipython3",
   "version": "3.12.0"
  }
 },
 "nbformat": 4,
 "nbformat_minor": 4
}
