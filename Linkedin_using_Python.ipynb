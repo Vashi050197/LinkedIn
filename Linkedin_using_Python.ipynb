{
  "cells": [
    {
      "cell_type": "markdown",
      "metadata": {
        "id": "view-in-github",
        "colab_type": "text"
      },
      "source": [
        "<a href=\"https://colab.research.google.com/github/Vashi050197/LinkedIn/blob/main/Linkedin_using_Python.ipynb\" target=\"_parent\"><img src=\"https://colab.research.google.com/assets/colab-badge.svg\" alt=\"Open In Colab\"/></a>"
      ]
    },
    {
      "cell_type": "code",
      "execution_count": 1,
      "metadata": {
        "colab": {
          "base_uri": "https://localhost:8080/"
        },
        "id": "5-n7X5vyUiJb",
        "outputId": "58b520f1-df8a-4769-9563-abe1f5492ac8"
      },
      "outputs": [
        {
          "output_type": "stream",
          "name": "stdout",
          "text": [
            "Collecting selenium\n",
            "  Downloading selenium-4.15.2-py3-none-any.whl (10.2 MB)\n",
            "\u001b[2K     \u001b[90m━━━━━━━━━━━━━━━━━━━━━━━━━━━━━━━━━━━━━━━━\u001b[0m \u001b[32m10.2/10.2 MB\u001b[0m \u001b[31m60.7 MB/s\u001b[0m eta \u001b[36m0:00:00\u001b[0m\n",
            "\u001b[?25hRequirement already satisfied: urllib3[socks]<3,>=1.26 in /usr/local/lib/python3.10/dist-packages (from selenium) (2.0.7)\n",
            "Collecting trio~=0.17 (from selenium)\n",
            "  Downloading trio-0.23.1-py3-none-any.whl (448 kB)\n",
            "\u001b[2K     \u001b[90m━━━━━━━━━━━━━━━━━━━━━━━━━━━━━━━━━━━━━━━━\u001b[0m \u001b[32m448.3/448.3 kB\u001b[0m \u001b[31m43.4 MB/s\u001b[0m eta \u001b[36m0:00:00\u001b[0m\n",
            "\u001b[?25hCollecting trio-websocket~=0.9 (from selenium)\n",
            "  Downloading trio_websocket-0.11.1-py3-none-any.whl (17 kB)\n",
            "Requirement already satisfied: certifi>=2021.10.8 in /usr/local/lib/python3.10/dist-packages (from selenium) (2023.7.22)\n",
            "Requirement already satisfied: attrs>=20.1.0 in /usr/local/lib/python3.10/dist-packages (from trio~=0.17->selenium) (23.1.0)\n",
            "Requirement already satisfied: sortedcontainers in /usr/local/lib/python3.10/dist-packages (from trio~=0.17->selenium) (2.4.0)\n",
            "Requirement already satisfied: idna in /usr/local/lib/python3.10/dist-packages (from trio~=0.17->selenium) (3.4)\n",
            "Collecting outcome (from trio~=0.17->selenium)\n",
            "  Downloading outcome-1.3.0.post0-py2.py3-none-any.whl (10 kB)\n",
            "Requirement already satisfied: sniffio>=1.3.0 in /usr/local/lib/python3.10/dist-packages (from trio~=0.17->selenium) (1.3.0)\n",
            "Requirement already satisfied: exceptiongroup>=1.0.0rc9 in /usr/local/lib/python3.10/dist-packages (from trio~=0.17->selenium) (1.1.3)\n",
            "Collecting wsproto>=0.14 (from trio-websocket~=0.9->selenium)\n",
            "  Downloading wsproto-1.2.0-py3-none-any.whl (24 kB)\n",
            "Requirement already satisfied: pysocks!=1.5.7,<2.0,>=1.5.6 in /usr/local/lib/python3.10/dist-packages (from urllib3[socks]<3,>=1.26->selenium) (1.7.1)\n",
            "Collecting h11<1,>=0.9.0 (from wsproto>=0.14->trio-websocket~=0.9->selenium)\n",
            "  Downloading h11-0.14.0-py3-none-any.whl (58 kB)\n",
            "\u001b[2K     \u001b[90m━━━━━━━━━━━━━━━━━━━━━━━━━━━━━━━━━━━━━━━━\u001b[0m \u001b[32m58.3/58.3 kB\u001b[0m \u001b[31m7.4 MB/s\u001b[0m eta \u001b[36m0:00:00\u001b[0m\n",
            "\u001b[?25hInstalling collected packages: outcome, h11, wsproto, trio, trio-websocket, selenium\n",
            "Successfully installed h11-0.14.0 outcome-1.3.0.post0 selenium-4.15.2 trio-0.23.1 trio-websocket-0.11.1 wsproto-1.2.0\n"
          ]
        }
      ],
      "source": [
        "pip install selenium"
      ]
    },
    {
      "cell_type": "code",
      "execution_count": 2,
      "metadata": {
        "colab": {
          "base_uri": "https://localhost:8080/"
        },
        "id": "xVTkBGpPUiJm",
        "outputId": "0af88939-4e44-4036-886d-91d4c8552898"
      },
      "outputs": [
        {
          "output_type": "stream",
          "name": "stdout",
          "text": [
            "Collecting webdriver-manager\n",
            "  Downloading webdriver_manager-4.0.1-py2.py3-none-any.whl (27 kB)\n",
            "Requirement already satisfied: requests in /usr/local/lib/python3.10/dist-packages (from webdriver-manager) (2.31.0)\n",
            "Collecting python-dotenv (from webdriver-manager)\n",
            "  Downloading python_dotenv-1.0.0-py3-none-any.whl (19 kB)\n",
            "Requirement already satisfied: packaging in /usr/local/lib/python3.10/dist-packages (from webdriver-manager) (23.2)\n",
            "Requirement already satisfied: charset-normalizer<4,>=2 in /usr/local/lib/python3.10/dist-packages (from requests->webdriver-manager) (3.3.2)\n",
            "Requirement already satisfied: idna<4,>=2.5 in /usr/local/lib/python3.10/dist-packages (from requests->webdriver-manager) (3.4)\n",
            "Requirement already satisfied: urllib3<3,>=1.21.1 in /usr/local/lib/python3.10/dist-packages (from requests->webdriver-manager) (2.0.7)\n",
            "Requirement already satisfied: certifi>=2017.4.17 in /usr/local/lib/python3.10/dist-packages (from requests->webdriver-manager) (2023.7.22)\n",
            "Installing collected packages: python-dotenv, webdriver-manager\n",
            "Successfully installed python-dotenv-1.0.0 webdriver-manager-4.0.1\n"
          ]
        }
      ],
      "source": [
        "pip install webdriver-manager"
      ]
    },
    {
      "cell_type": "code",
      "execution_count": null,
      "metadata": {
        "id": "MaOpLmg7UiJo"
      },
      "outputs": [],
      "source": [
        "pip install urllib3==1.26"
      ]
    },
    {
      "cell_type": "code",
      "execution_count": null,
      "metadata": {
        "colab": {
          "base_uri": "https://localhost:8080/"
        },
        "id": "QMxMQEwuUiJq",
        "outputId": "dbd64805-40a8-4682-9e8d-a6efc6b3a3f3"
      },
      "outputs": [
        {
          "output_type": "stream",
          "name": "stdout",
          "text": [
            "Requirement already satisfied: selenium in /usr/local/lib/python3.10/dist-packages (4.15.2)\n",
            "Requirement already satisfied: urllib3[socks]<3,>=1.26 in /usr/local/lib/python3.10/dist-packages (from selenium) (2.0.7)\n",
            "Requirement already satisfied: trio~=0.17 in /usr/local/lib/python3.10/dist-packages (from selenium) (0.23.1)\n",
            "Requirement already satisfied: trio-websocket~=0.9 in /usr/local/lib/python3.10/dist-packages (from selenium) (0.11.1)\n",
            "Requirement already satisfied: certifi>=2021.10.8 in /usr/local/lib/python3.10/dist-packages (from selenium) (2023.7.22)\n",
            "Requirement already satisfied: attrs>=20.1.0 in /usr/local/lib/python3.10/dist-packages (from trio~=0.17->selenium) (23.1.0)\n",
            "Requirement already satisfied: sortedcontainers in /usr/local/lib/python3.10/dist-packages (from trio~=0.17->selenium) (2.4.0)\n",
            "Requirement already satisfied: idna in /usr/local/lib/python3.10/dist-packages (from trio~=0.17->selenium) (3.4)\n",
            "Requirement already satisfied: outcome in /usr/local/lib/python3.10/dist-packages (from trio~=0.17->selenium) (1.3.0.post0)\n",
            "Requirement already satisfied: sniffio>=1.3.0 in /usr/local/lib/python3.10/dist-packages (from trio~=0.17->selenium) (1.3.0)\n",
            "Requirement already satisfied: exceptiongroup>=1.0.0rc9 in /usr/local/lib/python3.10/dist-packages (from trio~=0.17->selenium) (1.1.3)\n",
            "Requirement already satisfied: wsproto>=0.14 in /usr/local/lib/python3.10/dist-packages (from trio-websocket~=0.9->selenium) (1.2.0)\n",
            "Requirement already satisfied: pysocks!=1.5.7,<2.0,>=1.5.6 in /usr/local/lib/python3.10/dist-packages (from urllib3[socks]<3,>=1.26->selenium) (1.7.1)\n",
            "Requirement already satisfied: h11<1,>=0.9.0 in /usr/local/lib/python3.10/dist-packages (from wsproto>=0.14->trio-websocket~=0.9->selenium) (0.14.0)\n"
          ]
        }
      ],
      "source": [
        "pip install -U selenium"
      ]
    },
    {
      "cell_type": "code",
      "execution_count": null,
      "metadata": {
        "colab": {
          "base_uri": "https://localhost:8080/"
        },
        "id": "_BaW2ZrLUiJr",
        "outputId": "14a8815c-d1c5-406a-8822-cd64c79e3a83"
      },
      "outputs": [
        {
          "output_type": "stream",
          "name": "stdout",
          "text": [
            "Selenium version: <module 'selenium' from '/usr/local/lib/python3.10/dist-packages/selenium/__init__.py'>\n"
          ]
        }
      ],
      "source": [
        "print(\"Selenium version:\", selenium)"
      ]
    },
    {
      "cell_type": "code",
      "execution_count": 3,
      "metadata": {
        "colab": {
          "base_uri": "https://localhost:8080/",
          "height": 355
        },
        "id": "CfukfjBoUiJt",
        "outputId": "a3f7ac19-6897-4fdc-8ba0-6fe15274fcc8"
      },
      "outputs": [
        {
          "output_type": "error",
          "ename": "AttributeError",
          "evalue": "ignored",
          "traceback": [
            "\u001b[0;31m---------------------------------------------------------------------------\u001b[0m",
            "\u001b[0;31mAttributeError\u001b[0m                            Traceback (most recent call last)",
            "\u001b[0;32m<ipython-input-3-114def11e557>\u001b[0m in \u001b[0;36m<cell line: 5>\u001b[0;34m()\u001b[0m\n\u001b[1;32m      3\u001b[0m \u001b[0;32mfrom\u001b[0m \u001b[0mwebdriver_manager\u001b[0m\u001b[0;34m.\u001b[0m\u001b[0mchrome\u001b[0m \u001b[0;32mimport\u001b[0m \u001b[0mChromeDriverManager\u001b[0m\u001b[0;34m\u001b[0m\u001b[0;34m\u001b[0m\u001b[0m\n\u001b[1;32m      4\u001b[0m \u001b[0;34m\u001b[0m\u001b[0m\n\u001b[0;32m----> 5\u001b[0;31m \u001b[0mdriver\u001b[0m \u001b[0;34m=\u001b[0m \u001b[0mwebdriver\u001b[0m\u001b[0;34m.\u001b[0m\u001b[0mChrome\u001b[0m\u001b[0;34m(\u001b[0m\u001b[0mChromeDriverManager\u001b[0m\u001b[0;34m(\u001b[0m\u001b[0;34m)\u001b[0m\u001b[0;34m.\u001b[0m\u001b[0minstall\u001b[0m\u001b[0;34m(\u001b[0m\u001b[0;34m)\u001b[0m\u001b[0;34m)\u001b[0m\u001b[0;34m\u001b[0m\u001b[0;34m\u001b[0m\u001b[0m\n\u001b[0m",
            "\u001b[0;32m/usr/local/lib/python3.10/dist-packages/webdriver_manager/chrome.py\u001b[0m in \u001b[0;36minstall\u001b[0;34m(self)\u001b[0m\n\u001b[1;32m     38\u001b[0m \u001b[0;34m\u001b[0m\u001b[0m\n\u001b[1;32m     39\u001b[0m     \u001b[0;32mdef\u001b[0m \u001b[0minstall\u001b[0m\u001b[0;34m(\u001b[0m\u001b[0mself\u001b[0m\u001b[0;34m)\u001b[0m \u001b[0;34m->\u001b[0m \u001b[0mstr\u001b[0m\u001b[0;34m:\u001b[0m\u001b[0;34m\u001b[0m\u001b[0;34m\u001b[0m\u001b[0m\n\u001b[0;32m---> 40\u001b[0;31m         \u001b[0mdriver_path\u001b[0m \u001b[0;34m=\u001b[0m \u001b[0mself\u001b[0m\u001b[0;34m.\u001b[0m\u001b[0m_get_driver_binary_path\u001b[0m\u001b[0;34m(\u001b[0m\u001b[0mself\u001b[0m\u001b[0;34m.\u001b[0m\u001b[0mdriver\u001b[0m\u001b[0;34m)\u001b[0m\u001b[0;34m\u001b[0m\u001b[0;34m\u001b[0m\u001b[0m\n\u001b[0m\u001b[1;32m     41\u001b[0m         \u001b[0mos\u001b[0m\u001b[0;34m.\u001b[0m\u001b[0mchmod\u001b[0m\u001b[0;34m(\u001b[0m\u001b[0mdriver_path\u001b[0m\u001b[0;34m,\u001b[0m \u001b[0;36m0o755\u001b[0m\u001b[0;34m)\u001b[0m\u001b[0;34m\u001b[0m\u001b[0;34m\u001b[0m\u001b[0m\n\u001b[1;32m     42\u001b[0m         \u001b[0;32mreturn\u001b[0m \u001b[0mdriver_path\u001b[0m\u001b[0;34m\u001b[0m\u001b[0;34m\u001b[0m\u001b[0m\n",
            "\u001b[0;32m/usr/local/lib/python3.10/dist-packages/webdriver_manager/core/manager.py\u001b[0m in \u001b[0;36m_get_driver_binary_path\u001b[0;34m(self, driver)\u001b[0m\n\u001b[1;32m     38\u001b[0m \u001b[0;34m\u001b[0m\u001b[0m\n\u001b[1;32m     39\u001b[0m         \u001b[0mos_type\u001b[0m \u001b[0;34m=\u001b[0m \u001b[0mself\u001b[0m\u001b[0;34m.\u001b[0m\u001b[0mget_os_type\u001b[0m\u001b[0;34m(\u001b[0m\u001b[0;34m)\u001b[0m\u001b[0;34m\u001b[0m\u001b[0;34m\u001b[0m\u001b[0m\n\u001b[0;32m---> 40\u001b[0;31m         \u001b[0mfile\u001b[0m \u001b[0;34m=\u001b[0m \u001b[0mself\u001b[0m\u001b[0;34m.\u001b[0m\u001b[0m_download_manager\u001b[0m\u001b[0;34m.\u001b[0m\u001b[0mdownload_file\u001b[0m\u001b[0;34m(\u001b[0m\u001b[0mdriver\u001b[0m\u001b[0;34m.\u001b[0m\u001b[0mget_driver_download_url\u001b[0m\u001b[0;34m(\u001b[0m\u001b[0mos_type\u001b[0m\u001b[0;34m)\u001b[0m\u001b[0;34m)\u001b[0m\u001b[0;34m\u001b[0m\u001b[0;34m\u001b[0m\u001b[0m\n\u001b[0m\u001b[1;32m     41\u001b[0m         \u001b[0mbinary_path\u001b[0m \u001b[0;34m=\u001b[0m \u001b[0mself\u001b[0m\u001b[0;34m.\u001b[0m\u001b[0m_cache_manager\u001b[0m\u001b[0;34m.\u001b[0m\u001b[0msave_file_to_cache\u001b[0m\u001b[0;34m(\u001b[0m\u001b[0mdriver\u001b[0m\u001b[0;34m,\u001b[0m \u001b[0mfile\u001b[0m\u001b[0;34m)\u001b[0m\u001b[0;34m\u001b[0m\u001b[0;34m\u001b[0m\u001b[0m\n\u001b[1;32m     42\u001b[0m         \u001b[0;32mreturn\u001b[0m \u001b[0mbinary_path\u001b[0m\u001b[0;34m\u001b[0m\u001b[0;34m\u001b[0m\u001b[0m\n",
            "\u001b[0;32m/usr/local/lib/python3.10/dist-packages/webdriver_manager/drivers/chrome.py\u001b[0m in \u001b[0;36mget_driver_download_url\u001b[0;34m(self, os_type)\u001b[0m\n\u001b[1;32m     30\u001b[0m \u001b[0;34m\u001b[0m\u001b[0m\n\u001b[1;32m     31\u001b[0m     \u001b[0;32mdef\u001b[0m \u001b[0mget_driver_download_url\u001b[0m\u001b[0;34m(\u001b[0m\u001b[0mself\u001b[0m\u001b[0;34m,\u001b[0m \u001b[0mos_type\u001b[0m\u001b[0;34m)\u001b[0m\u001b[0;34m:\u001b[0m\u001b[0;34m\u001b[0m\u001b[0;34m\u001b[0m\u001b[0m\n\u001b[0;32m---> 32\u001b[0;31m         \u001b[0mdriver_version_to_download\u001b[0m \u001b[0;34m=\u001b[0m \u001b[0mself\u001b[0m\u001b[0;34m.\u001b[0m\u001b[0mget_driver_version_to_download\u001b[0m\u001b[0;34m(\u001b[0m\u001b[0;34m)\u001b[0m\u001b[0;34m\u001b[0m\u001b[0;34m\u001b[0m\u001b[0m\n\u001b[0m\u001b[1;32m     33\u001b[0m         \u001b[0;31m# For Mac ARM CPUs after version 106.0.5249.61 the format of OS type changed\u001b[0m\u001b[0;34m\u001b[0m\u001b[0;34m\u001b[0m\u001b[0m\n\u001b[1;32m     34\u001b[0m         \u001b[0;31m# to more unified \"mac_arm64\". For newer versions, it'll be \"mac_arm64\"\u001b[0m\u001b[0;34m\u001b[0m\u001b[0;34m\u001b[0m\u001b[0m\n",
            "\u001b[0;32m/usr/local/lib/python3.10/dist-packages/webdriver_manager/core/driver.py\u001b[0m in \u001b[0;36mget_driver_version_to_download\u001b[0;34m(self)\u001b[0m\n\u001b[1;32m     46\u001b[0m             \u001b[0;32mreturn\u001b[0m \u001b[0mself\u001b[0m\u001b[0;34m.\u001b[0m\u001b[0m_driver_version_to_download\u001b[0m\u001b[0;34m\u001b[0m\u001b[0;34m\u001b[0m\u001b[0m\n\u001b[1;32m     47\u001b[0m \u001b[0;34m\u001b[0m\u001b[0m\n\u001b[0;32m---> 48\u001b[0;31m         \u001b[0;32mreturn\u001b[0m \u001b[0mself\u001b[0m\u001b[0;34m.\u001b[0m\u001b[0mget_latest_release_version\u001b[0m\u001b[0;34m(\u001b[0m\u001b[0;34m)\u001b[0m\u001b[0;34m\u001b[0m\u001b[0;34m\u001b[0m\u001b[0m\n\u001b[0m\u001b[1;32m     49\u001b[0m \u001b[0;34m\u001b[0m\u001b[0m\n\u001b[1;32m     50\u001b[0m     \u001b[0;32mdef\u001b[0m \u001b[0mget_latest_release_version\u001b[0m\u001b[0;34m(\u001b[0m\u001b[0mself\u001b[0m\u001b[0;34m)\u001b[0m\u001b[0;34m:\u001b[0m\u001b[0;34m\u001b[0m\u001b[0;34m\u001b[0m\u001b[0m\n",
            "\u001b[0;32m/usr/local/lib/python3.10/dist-packages/webdriver_manager/drivers/chrome.py\u001b[0m in \u001b[0;36mget_latest_release_version\u001b[0;34m(self)\u001b[0m\n\u001b[1;32m     62\u001b[0m             \u001b[0;32mreturn\u001b[0m \u001b[0mdetermined_browser_version\u001b[0m\u001b[0;34m\u001b[0m\u001b[0;34m\u001b[0m\u001b[0m\n\u001b[1;32m     63\u001b[0m         \u001b[0;31m# Remove the build version (the last segment) from determined_browser_version for version < 113\u001b[0m\u001b[0;34m\u001b[0m\u001b[0;34m\u001b[0m\u001b[0m\n\u001b[0;32m---> 64\u001b[0;31m         \u001b[0mdetermined_browser_version\u001b[0m \u001b[0;34m=\u001b[0m \u001b[0;34m\".\"\u001b[0m\u001b[0;34m.\u001b[0m\u001b[0mjoin\u001b[0m\u001b[0;34m(\u001b[0m\u001b[0mdetermined_browser_version\u001b[0m\u001b[0;34m.\u001b[0m\u001b[0msplit\u001b[0m\u001b[0;34m(\u001b[0m\u001b[0;34m\".\"\u001b[0m\u001b[0;34m)\u001b[0m\u001b[0;34m[\u001b[0m\u001b[0;34m:\u001b[0m\u001b[0;36m3\u001b[0m\u001b[0;34m]\u001b[0m\u001b[0;34m)\u001b[0m\u001b[0;34m\u001b[0m\u001b[0;34m\u001b[0m\u001b[0m\n\u001b[0m\u001b[1;32m     65\u001b[0m         latest_release_url = (\n\u001b[1;32m     66\u001b[0m             \u001b[0mself\u001b[0m\u001b[0;34m.\u001b[0m\u001b[0m_latest_release_url\u001b[0m\u001b[0;34m\u001b[0m\u001b[0;34m\u001b[0m\u001b[0m\n",
            "\u001b[0;31mAttributeError\u001b[0m: 'NoneType' object has no attribute 'split'"
          ]
        }
      ],
      "source": [
        "from selenium import webdriver\n",
        "from selenium import webdriver\n",
        "from webdriver_manager.chrome import ChromeDriverManager\n",
        "\n",
        "driver = webdriver.Chrome(ChromeDriverManager().install())"
      ]
    },
    {
      "cell_type": "code",
      "execution_count": null,
      "metadata": {
        "colab": {
          "base_uri": "https://localhost:8080/",
          "height": 35
        },
        "id": "cj_AI3kPUiJv",
        "outputId": "712c7a95-a631-45a2-8cb9-3308c581ebc1"
      },
      "outputs": [
        {
          "output_type": "execute_result",
          "data": {
            "text/plain": [
              "'4.15.2'"
            ],
            "application/vnd.google.colaboratory.intrinsic+json": {
              "type": "string"
            }
          },
          "metadata": {},
          "execution_count": 4
        }
      ],
      "source": [
        "from selenium.webdriver.common.keys import Keys\n",
        "from selenium.webdriver.support import expected_conditions as EC\n",
        "from selenium.webdriver.support.ui import WebDriverWait\n",
        "from selenium.webdriver.common.by import By\n",
        "from selenium.common.exceptions import NoSuchElementException, ElementClickInterceptedException, NoSuchElementException\n",
        "from selenium.webdriver.common.action_chains import ActionChains\n",
        "import time\n",
        "import re\n",
        "import json\n",
        "import selenium\n",
        "selenium.__version__"
      ]
    },
    {
      "cell_type": "code",
      "execution_count": null,
      "metadata": {
        "colab": {
          "base_uri": "https://localhost:8080/",
          "height": 175
        },
        "id": "9jmYHQ1AUiJy",
        "outputId": "7cb4c6df-b874-4b99-9b84-865a3bffd6de"
      },
      "outputs": [
        {
          "output_type": "error",
          "ename": "NameError",
          "evalue": "ignored",
          "traceback": [
            "\u001b[0;31m---------------------------------------------------------------------------\u001b[0m",
            "\u001b[0;31mNameError\u001b[0m                                 Traceback (most recent call last)",
            "\u001b[0;32m<ipython-input-5-b74ae10b4c61>\u001b[0m in \u001b[0;36m<cell line: 1>\u001b[0;34m()\u001b[0m\n\u001b[0;32m----> 1\u001b[0;31m \u001b[0mlogger\u001b[0m \u001b[0;34m=\u001b[0m \u001b[0mlogging\u001b[0m\u001b[0;34m.\u001b[0m\u001b[0mgetLogger\u001b[0m\u001b[0;34m(\u001b[0m\u001b[0;34m'selenium'\u001b[0m\u001b[0;34m)\u001b[0m\u001b[0;34m\u001b[0m\u001b[0;34m\u001b[0m\u001b[0m\n\u001b[0m",
            "\u001b[0;31mNameError\u001b[0m: name 'logging' is not defined"
          ]
        }
      ],
      "source": [
        "    logger = logging.getLogger('selenium')"
      ]
    },
    {
      "cell_type": "code",
      "execution_count": null,
      "metadata": {
        "id": "Y6FO_NjQUiJz"
      },
      "outputs": [],
      "source": [
        "\n",
        "\n",
        "from selenium import webdriver\n",
        "\n",
        "from selenium.webdriver.chrome.service import Service\n"
      ]
    },
    {
      "cell_type": "code",
      "execution_count": null,
      "metadata": {
        "id": "UbtQltqkUiJ1"
      },
      "outputs": [],
      "source": [
        "data={\n",
        "\n",
        "    \"email\" : \"LINKEDIN EMAILID\",\n",
        "    \"password\" : \"LINKEDIN PASSWORD\",\n",
        "    \"keywords\" : \"React Native Developer\",\n",
        "    \"location\" : \"India\",\n",
        "    \"driver_path\" :r\"Desktop\\chromedriver-win64\\chromedriver.exe\"\n",
        "}"
      ]
    },
    {
      "cell_type": "code",
      "execution_count": null,
      "metadata": {
        "colab": {
          "base_uri": "https://localhost:8080/",
          "height": 442
        },
        "id": "MjWP83n9UiJ2",
        "outputId": "70a56092-dd34-43d5-9f8f-082af66d88f6"
      },
      "outputs": [
        {
          "output_type": "error",
          "ename": "AttributeError",
          "evalue": "ignored",
          "traceback": [
            "\u001b[0;31m---------------------------------------------------------------------------\u001b[0m",
            "\u001b[0;31mAttributeError\u001b[0m                            Traceback (most recent call last)",
            "\u001b[0;32m/usr/local/lib/python3.10/dist-packages/selenium/webdriver/common/driver_finder.py\u001b[0m in \u001b[0;36mget_path\u001b[0;34m(service, options)\u001b[0m\n\u001b[1;32m     37\u001b[0m         \u001b[0;32mtry\u001b[0m\u001b[0;34m:\u001b[0m\u001b[0;34m\u001b[0m\u001b[0;34m\u001b[0m\u001b[0m\n\u001b[0;32m---> 38\u001b[0;31m             \u001b[0mpath\u001b[0m \u001b[0;34m=\u001b[0m \u001b[0mSeleniumManager\u001b[0m\u001b[0;34m(\u001b[0m\u001b[0;34m)\u001b[0m\u001b[0;34m.\u001b[0m\u001b[0mdriver_location\u001b[0m\u001b[0;34m(\u001b[0m\u001b[0moptions\u001b[0m\u001b[0;34m)\u001b[0m \u001b[0;32mif\u001b[0m \u001b[0mpath\u001b[0m \u001b[0;32mis\u001b[0m \u001b[0;32mNone\u001b[0m \u001b[0;32melse\u001b[0m \u001b[0mpath\u001b[0m\u001b[0;34m\u001b[0m\u001b[0;34m\u001b[0m\u001b[0m\n\u001b[0m\u001b[1;32m     39\u001b[0m         \u001b[0;32mexcept\u001b[0m \u001b[0mException\u001b[0m \u001b[0;32mas\u001b[0m \u001b[0merr\u001b[0m\u001b[0;34m:\u001b[0m\u001b[0;34m\u001b[0m\u001b[0;34m\u001b[0m\u001b[0m\n",
            "\u001b[0;32m/usr/local/lib/python3.10/dist-packages/selenium/webdriver/common/selenium_manager.py\u001b[0m in \u001b[0;36mdriver_location\u001b[0;34m(self, options)\u001b[0m\n\u001b[1;32m     74\u001b[0m \u001b[0;34m\u001b[0m\u001b[0m\n\u001b[0;32m---> 75\u001b[0;31m         \u001b[0mbrowser\u001b[0m \u001b[0;34m=\u001b[0m \u001b[0moptions\u001b[0m\u001b[0;34m.\u001b[0m\u001b[0mcapabilities\u001b[0m\u001b[0;34m[\u001b[0m\u001b[0;34m\"browserName\"\u001b[0m\u001b[0;34m]\u001b[0m\u001b[0;34m\u001b[0m\u001b[0;34m\u001b[0m\u001b[0m\n\u001b[0m\u001b[1;32m     76\u001b[0m \u001b[0;34m\u001b[0m\u001b[0m\n",
            "\u001b[0;31mAttributeError\u001b[0m: 'str' object has no attribute 'capabilities'",
            "\nDuring handling of the above exception, another exception occurred:\n",
            "\u001b[0;31mAttributeError\u001b[0m                            Traceback (most recent call last)",
            "\u001b[0;32m<ipython-input-8-89f23109c1c6>\u001b[0m in \u001b[0;36m<cell line: 7>\u001b[0;34m()\u001b[0m\n\u001b[1;32m      5\u001b[0m \u001b[0;34m\u001b[0m\u001b[0m\n\u001b[1;32m      6\u001b[0m \u001b[0;34m\u001b[0m\u001b[0m\n\u001b[0;32m----> 7\u001b[0;31m \u001b[0mdriver\u001b[0m \u001b[0;34m=\u001b[0m \u001b[0mwebdriver\u001b[0m\u001b[0;34m.\u001b[0m\u001b[0mChrome\u001b[0m\u001b[0;34m(\u001b[0m\u001b[0;34mr'\\chrome-win64\\chromedriver.exe'\u001b[0m\u001b[0;34m)\u001b[0m\u001b[0;34m\u001b[0m\u001b[0;34m\u001b[0m\u001b[0m\n\u001b[0m",
            "\u001b[0;32m/usr/local/lib/python3.10/dist-packages/selenium/webdriver/chrome/webdriver.py\u001b[0m in \u001b[0;36m__init__\u001b[0;34m(self, options, service, keep_alive)\u001b[0m\n\u001b[1;32m     43\u001b[0m         \u001b[0moptions\u001b[0m \u001b[0;34m=\u001b[0m \u001b[0moptions\u001b[0m \u001b[0;32mif\u001b[0m \u001b[0moptions\u001b[0m \u001b[0;32melse\u001b[0m \u001b[0mOptions\u001b[0m\u001b[0;34m(\u001b[0m\u001b[0;34m)\u001b[0m\u001b[0;34m\u001b[0m\u001b[0;34m\u001b[0m\u001b[0m\n\u001b[1;32m     44\u001b[0m \u001b[0;34m\u001b[0m\u001b[0m\n\u001b[0;32m---> 45\u001b[0;31m         super().__init__(\n\u001b[0m\u001b[1;32m     46\u001b[0m             \u001b[0mDesiredCapabilities\u001b[0m\u001b[0;34m.\u001b[0m\u001b[0mCHROME\u001b[0m\u001b[0;34m[\u001b[0m\u001b[0;34m\"browserName\"\u001b[0m\u001b[0;34m]\u001b[0m\u001b[0;34m,\u001b[0m\u001b[0;34m\u001b[0m\u001b[0;34m\u001b[0m\u001b[0m\n\u001b[1;32m     47\u001b[0m             \u001b[0;34m\"goog\"\u001b[0m\u001b[0;34m,\u001b[0m\u001b[0;34m\u001b[0m\u001b[0;34m\u001b[0m\u001b[0m\n",
            "\u001b[0;32m/usr/local/lib/python3.10/dist-packages/selenium/webdriver/chromium/webdriver.py\u001b[0m in \u001b[0;36m__init__\u001b[0;34m(self, browser_name, vendor_prefix, options, service, keep_alive)\u001b[0m\n\u001b[1;32m     49\u001b[0m         \u001b[0mself\u001b[0m\u001b[0;34m.\u001b[0m\u001b[0mservice\u001b[0m \u001b[0;34m=\u001b[0m \u001b[0mservice\u001b[0m\u001b[0;34m\u001b[0m\u001b[0;34m\u001b[0m\u001b[0m\n\u001b[1;32m     50\u001b[0m \u001b[0;34m\u001b[0m\u001b[0m\n\u001b[0;32m---> 51\u001b[0;31m         \u001b[0mself\u001b[0m\u001b[0;34m.\u001b[0m\u001b[0mservice\u001b[0m\u001b[0;34m.\u001b[0m\u001b[0mpath\u001b[0m \u001b[0;34m=\u001b[0m \u001b[0mDriverFinder\u001b[0m\u001b[0;34m.\u001b[0m\u001b[0mget_path\u001b[0m\u001b[0;34m(\u001b[0m\u001b[0mself\u001b[0m\u001b[0;34m.\u001b[0m\u001b[0mservice\u001b[0m\u001b[0;34m,\u001b[0m \u001b[0moptions\u001b[0m\u001b[0;34m)\u001b[0m\u001b[0;34m\u001b[0m\u001b[0;34m\u001b[0m\u001b[0m\n\u001b[0m\u001b[1;32m     52\u001b[0m \u001b[0;34m\u001b[0m\u001b[0m\n\u001b[1;32m     53\u001b[0m         \u001b[0mself\u001b[0m\u001b[0;34m.\u001b[0m\u001b[0mservice\u001b[0m\u001b[0;34m.\u001b[0m\u001b[0mstart\u001b[0m\u001b[0;34m(\u001b[0m\u001b[0;34m)\u001b[0m\u001b[0;34m\u001b[0m\u001b[0;34m\u001b[0m\u001b[0m\n",
            "\u001b[0;32m/usr/local/lib/python3.10/dist-packages/selenium/webdriver/common/driver_finder.py\u001b[0m in \u001b[0;36mget_path\u001b[0;34m(service, options)\u001b[0m\n\u001b[1;32m     38\u001b[0m             \u001b[0mpath\u001b[0m \u001b[0;34m=\u001b[0m \u001b[0mSeleniumManager\u001b[0m\u001b[0;34m(\u001b[0m\u001b[0;34m)\u001b[0m\u001b[0;34m.\u001b[0m\u001b[0mdriver_location\u001b[0m\u001b[0;34m(\u001b[0m\u001b[0moptions\u001b[0m\u001b[0;34m)\u001b[0m \u001b[0;32mif\u001b[0m \u001b[0mpath\u001b[0m \u001b[0;32mis\u001b[0m \u001b[0;32mNone\u001b[0m \u001b[0;32melse\u001b[0m \u001b[0mpath\u001b[0m\u001b[0;34m\u001b[0m\u001b[0;34m\u001b[0m\u001b[0m\n\u001b[1;32m     39\u001b[0m         \u001b[0;32mexcept\u001b[0m \u001b[0mException\u001b[0m \u001b[0;32mas\u001b[0m \u001b[0merr\u001b[0m\u001b[0;34m:\u001b[0m\u001b[0;34m\u001b[0m\u001b[0;34m\u001b[0m\u001b[0m\n\u001b[0;32m---> 40\u001b[0;31m             \u001b[0mmsg\u001b[0m \u001b[0;34m=\u001b[0m \u001b[0;34mf\"Unable to obtain driver for {options.capabilities['browserName']} using Selenium Manager.\"\u001b[0m\u001b[0;34m\u001b[0m\u001b[0;34m\u001b[0m\u001b[0m\n\u001b[0m\u001b[1;32m     41\u001b[0m             \u001b[0;32mraise\u001b[0m \u001b[0mNoSuchDriverException\u001b[0m\u001b[0;34m(\u001b[0m\u001b[0mmsg\u001b[0m\u001b[0;34m)\u001b[0m \u001b[0;32mfrom\u001b[0m \u001b[0merr\u001b[0m\u001b[0;34m\u001b[0m\u001b[0;34m\u001b[0m\u001b[0m\n\u001b[1;32m     42\u001b[0m \u001b[0;34m\u001b[0m\u001b[0m\n",
            "\u001b[0;31mAttributeError\u001b[0m: 'str' object has no attribute 'capabilities'"
          ]
        }
      ],
      "source": [
        "import time\n",
        "\n",
        "from selenium import webdriver\n",
        "\n",
        "\n",
        "\n",
        "driver = webdriver.Chrome(r'\\chrome-win64\\chromedriver.exe')"
      ]
    },
    {
      "cell_type": "code",
      "execution_count": null,
      "metadata": {
        "colab": {
          "base_uri": "https://localhost:8080/",
          "height": 245
        },
        "id": "WTtftdH-UiJ5",
        "outputId": "98eb3ac6-12f2-4420-8dfa-6a4fb42effbf"
      },
      "outputs": [
        {
          "output_type": "error",
          "ename": "NameError",
          "evalue": "ignored",
          "traceback": [
            "\u001b[0;31m---------------------------------------------------------------------------\u001b[0m",
            "\u001b[0;31mNameError\u001b[0m                                 Traceback (most recent call last)",
            "\u001b[0;32m<ipython-input-11-b8bb53d320b7>\u001b[0m in \u001b[0;36m<cell line: 1>\u001b[0;34m()\u001b[0m\n\u001b[0;32m----> 1\u001b[0;31m \u001b[0mdriver\u001b[0m\u001b[0;34m.\u001b[0m\u001b[0mget\u001b[0m\u001b[0;34m(\u001b[0m\u001b[0;34m'http://www.google.com/'\u001b[0m\u001b[0;34m)\u001b[0m\u001b[0;34m;\u001b[0m\u001b[0;34m\u001b[0m\u001b[0;34m\u001b[0m\u001b[0m\n\u001b[0m\u001b[1;32m      2\u001b[0m \u001b[0;34m\u001b[0m\u001b[0m\n\u001b[1;32m      3\u001b[0m \u001b[0mtime\u001b[0m\u001b[0;34m.\u001b[0m\u001b[0msleep\u001b[0m\u001b[0;34m(\u001b[0m\u001b[0;36m5\u001b[0m\u001b[0;34m)\u001b[0m \u001b[0;31m# Let the user actually see something!\u001b[0m\u001b[0;34m\u001b[0m\u001b[0;34m\u001b[0m\u001b[0m\n\u001b[1;32m      4\u001b[0m \u001b[0;34m\u001b[0m\u001b[0m\n\u001b[1;32m      5\u001b[0m \u001b[0msearch_box\u001b[0m \u001b[0;34m=\u001b[0m \u001b[0mdriver\u001b[0m\u001b[0;34m.\u001b[0m\u001b[0mfind_element_by_name\u001b[0m\u001b[0;34m(\u001b[0m\u001b[0;34m'q'\u001b[0m\u001b[0;34m)\u001b[0m\u001b[0;34m\u001b[0m\u001b[0;34m\u001b[0m\u001b[0m\n",
            "\u001b[0;31mNameError\u001b[0m: name 'driver' is not defined"
          ]
        }
      ],
      "source": [
        "driver.get('http://www.google.com/');\n",
        "\n",
        "time.sleep(5) # Let the user actually see something!\n",
        "\n",
        "search_box = driver.find_element_by_name('q')\n",
        "\n",
        "search_box.send_keys('ChromeDriver')\n",
        "\n",
        "search_box.submit()\n",
        "\n",
        "time.sleep(5) # Let the user actually see something!\n",
        "\n",
        "driver.quit()"
      ]
    },
    {
      "cell_type": "code",
      "execution_count": null,
      "metadata": {
        "colab": {
          "base_uri": "https://localhost:8080/",
          "height": 720
        },
        "id": "CztEFAJQUiJ6",
        "outputId": "6d1fde3d-0e83-4f19-9236-a422a1298ae4"
      },
      "outputs": [
        {
          "output_type": "error",
          "ename": "SessionNotCreatedException",
          "evalue": "ignored",
          "traceback": [
            "\u001b[0;31m---------------------------------------------------------------------------\u001b[0m",
            "\u001b[0;31mSessionNotCreatedException\u001b[0m                Traceback (most recent call last)",
            "\u001b[0;32m<ipython-input-12-c2eb9e6ba9e5>\u001b[0m in \u001b[0;36m<cell line: 6>\u001b[0;34m()\u001b[0m\n\u001b[1;32m      4\u001b[0m \u001b[0;32mimport\u001b[0m \u001b[0mtime\u001b[0m\u001b[0;34m\u001b[0m\u001b[0;34m\u001b[0m\u001b[0m\n\u001b[1;32m      5\u001b[0m \u001b[0;34m\u001b[0m\u001b[0m\n\u001b[0;32m----> 6\u001b[0;31m \u001b[0mdriver\u001b[0m \u001b[0;34m=\u001b[0m \u001b[0mwebdriver\u001b[0m\u001b[0;34m.\u001b[0m\u001b[0mChrome\u001b[0m\u001b[0;34m(\u001b[0m\u001b[0mservice\u001b[0m\u001b[0;34m=\u001b[0m\u001b[0mChromeService\u001b[0m\u001b[0;34m(\u001b[0m\u001b[0;34m)\u001b[0m\u001b[0;34m)\u001b[0m\u001b[0;34m\u001b[0m\u001b[0;34m\u001b[0m\u001b[0m\n\u001b[0m\u001b[1;32m      7\u001b[0m \u001b[0;34m\u001b[0m\u001b[0m\n\u001b[1;32m      8\u001b[0m \u001b[0mdriver\u001b[0m\u001b[0;34m.\u001b[0m\u001b[0mget\u001b[0m\u001b[0;34m(\u001b[0m\u001b[0;34m\"https://google.com\"\u001b[0m\u001b[0;34m)\u001b[0m\u001b[0;34m\u001b[0m\u001b[0;34m\u001b[0m\u001b[0m\n",
            "\u001b[0;32m/usr/local/lib/python3.10/dist-packages/selenium/webdriver/chrome/webdriver.py\u001b[0m in \u001b[0;36m__init__\u001b[0;34m(self, options, service, keep_alive)\u001b[0m\n\u001b[1;32m     43\u001b[0m         \u001b[0moptions\u001b[0m \u001b[0;34m=\u001b[0m \u001b[0moptions\u001b[0m \u001b[0;32mif\u001b[0m \u001b[0moptions\u001b[0m \u001b[0;32melse\u001b[0m \u001b[0mOptions\u001b[0m\u001b[0;34m(\u001b[0m\u001b[0;34m)\u001b[0m\u001b[0;34m\u001b[0m\u001b[0;34m\u001b[0m\u001b[0m\n\u001b[1;32m     44\u001b[0m \u001b[0;34m\u001b[0m\u001b[0m\n\u001b[0;32m---> 45\u001b[0;31m         super().__init__(\n\u001b[0m\u001b[1;32m     46\u001b[0m             \u001b[0mDesiredCapabilities\u001b[0m\u001b[0;34m.\u001b[0m\u001b[0mCHROME\u001b[0m\u001b[0;34m[\u001b[0m\u001b[0;34m\"browserName\"\u001b[0m\u001b[0;34m]\u001b[0m\u001b[0;34m,\u001b[0m\u001b[0;34m\u001b[0m\u001b[0;34m\u001b[0m\u001b[0m\n\u001b[1;32m     47\u001b[0m             \u001b[0;34m\"goog\"\u001b[0m\u001b[0;34m,\u001b[0m\u001b[0;34m\u001b[0m\u001b[0;34m\u001b[0m\u001b[0m\n",
            "\u001b[0;32m/usr/local/lib/python3.10/dist-packages/selenium/webdriver/chromium/webdriver.py\u001b[0m in \u001b[0;36m__init__\u001b[0;34m(self, browser_name, vendor_prefix, options, service, keep_alive)\u001b[0m\n\u001b[1;32m     54\u001b[0m \u001b[0;34m\u001b[0m\u001b[0m\n\u001b[1;32m     55\u001b[0m         \u001b[0;32mtry\u001b[0m\u001b[0;34m:\u001b[0m\u001b[0;34m\u001b[0m\u001b[0;34m\u001b[0m\u001b[0m\n\u001b[0;32m---> 56\u001b[0;31m             super().__init__(\n\u001b[0m\u001b[1;32m     57\u001b[0m                 command_executor=ChromiumRemoteConnection(\n\u001b[1;32m     58\u001b[0m                     \u001b[0mremote_server_addr\u001b[0m\u001b[0;34m=\u001b[0m\u001b[0mself\u001b[0m\u001b[0;34m.\u001b[0m\u001b[0mservice\u001b[0m\u001b[0;34m.\u001b[0m\u001b[0mservice_url\u001b[0m\u001b[0;34m,\u001b[0m\u001b[0;34m\u001b[0m\u001b[0;34m\u001b[0m\u001b[0m\n",
            "\u001b[0;32m/usr/local/lib/python3.10/dist-packages/selenium/webdriver/remote/webdriver.py\u001b[0m in \u001b[0;36m__init__\u001b[0;34m(self, command_executor, keep_alive, file_detector, options)\u001b[0m\n\u001b[1;32m    206\u001b[0m         \u001b[0mself\u001b[0m\u001b[0;34m.\u001b[0m\u001b[0m_authenticator_id\u001b[0m \u001b[0;34m=\u001b[0m \u001b[0;32mNone\u001b[0m\u001b[0;34m\u001b[0m\u001b[0;34m\u001b[0m\u001b[0m\n\u001b[1;32m    207\u001b[0m         \u001b[0mself\u001b[0m\u001b[0;34m.\u001b[0m\u001b[0mstart_client\u001b[0m\u001b[0;34m(\u001b[0m\u001b[0;34m)\u001b[0m\u001b[0;34m\u001b[0m\u001b[0;34m\u001b[0m\u001b[0m\n\u001b[0;32m--> 208\u001b[0;31m         \u001b[0mself\u001b[0m\u001b[0;34m.\u001b[0m\u001b[0mstart_session\u001b[0m\u001b[0;34m(\u001b[0m\u001b[0mcapabilities\u001b[0m\u001b[0;34m)\u001b[0m\u001b[0;34m\u001b[0m\u001b[0;34m\u001b[0m\u001b[0m\n\u001b[0m\u001b[1;32m    209\u001b[0m \u001b[0;34m\u001b[0m\u001b[0m\n\u001b[1;32m    210\u001b[0m     \u001b[0;32mdef\u001b[0m \u001b[0m__repr__\u001b[0m\u001b[0;34m(\u001b[0m\u001b[0mself\u001b[0m\u001b[0;34m)\u001b[0m\u001b[0;34m:\u001b[0m\u001b[0;34m\u001b[0m\u001b[0;34m\u001b[0m\u001b[0m\n",
            "\u001b[0;32m/usr/local/lib/python3.10/dist-packages/selenium/webdriver/remote/webdriver.py\u001b[0m in \u001b[0;36mstart_session\u001b[0;34m(self, capabilities)\u001b[0m\n\u001b[1;32m    290\u001b[0m \u001b[0;34m\u001b[0m\u001b[0m\n\u001b[1;32m    291\u001b[0m         \u001b[0mcaps\u001b[0m \u001b[0;34m=\u001b[0m \u001b[0m_create_caps\u001b[0m\u001b[0;34m(\u001b[0m\u001b[0mcapabilities\u001b[0m\u001b[0;34m)\u001b[0m\u001b[0;34m\u001b[0m\u001b[0;34m\u001b[0m\u001b[0m\n\u001b[0;32m--> 292\u001b[0;31m         \u001b[0mresponse\u001b[0m \u001b[0;34m=\u001b[0m \u001b[0mself\u001b[0m\u001b[0;34m.\u001b[0m\u001b[0mexecute\u001b[0m\u001b[0;34m(\u001b[0m\u001b[0mCommand\u001b[0m\u001b[0;34m.\u001b[0m\u001b[0mNEW_SESSION\u001b[0m\u001b[0;34m,\u001b[0m \u001b[0mcaps\u001b[0m\u001b[0;34m)\u001b[0m\u001b[0;34m[\u001b[0m\u001b[0;34m\"value\"\u001b[0m\u001b[0;34m]\u001b[0m\u001b[0;34m\u001b[0m\u001b[0;34m\u001b[0m\u001b[0m\n\u001b[0m\u001b[1;32m    293\u001b[0m         \u001b[0mself\u001b[0m\u001b[0;34m.\u001b[0m\u001b[0msession_id\u001b[0m \u001b[0;34m=\u001b[0m \u001b[0mresponse\u001b[0m\u001b[0;34m.\u001b[0m\u001b[0mget\u001b[0m\u001b[0;34m(\u001b[0m\u001b[0;34m\"sessionId\"\u001b[0m\u001b[0;34m)\u001b[0m\u001b[0;34m\u001b[0m\u001b[0;34m\u001b[0m\u001b[0m\n\u001b[1;32m    294\u001b[0m         \u001b[0mself\u001b[0m\u001b[0;34m.\u001b[0m\u001b[0mcaps\u001b[0m \u001b[0;34m=\u001b[0m \u001b[0mresponse\u001b[0m\u001b[0;34m.\u001b[0m\u001b[0mget\u001b[0m\u001b[0;34m(\u001b[0m\u001b[0;34m\"capabilities\"\u001b[0m\u001b[0;34m)\u001b[0m\u001b[0;34m\u001b[0m\u001b[0;34m\u001b[0m\u001b[0m\n",
            "\u001b[0;32m/usr/local/lib/python3.10/dist-packages/selenium/webdriver/remote/webdriver.py\u001b[0m in \u001b[0;36mexecute\u001b[0;34m(self, driver_command, params)\u001b[0m\n\u001b[1;32m    345\u001b[0m         \u001b[0mresponse\u001b[0m \u001b[0;34m=\u001b[0m \u001b[0mself\u001b[0m\u001b[0;34m.\u001b[0m\u001b[0mcommand_executor\u001b[0m\u001b[0;34m.\u001b[0m\u001b[0mexecute\u001b[0m\u001b[0;34m(\u001b[0m\u001b[0mdriver_command\u001b[0m\u001b[0;34m,\u001b[0m \u001b[0mparams\u001b[0m\u001b[0;34m)\u001b[0m\u001b[0;34m\u001b[0m\u001b[0;34m\u001b[0m\u001b[0m\n\u001b[1;32m    346\u001b[0m         \u001b[0;32mif\u001b[0m \u001b[0mresponse\u001b[0m\u001b[0;34m:\u001b[0m\u001b[0;34m\u001b[0m\u001b[0;34m\u001b[0m\u001b[0m\n\u001b[0;32m--> 347\u001b[0;31m             \u001b[0mself\u001b[0m\u001b[0;34m.\u001b[0m\u001b[0merror_handler\u001b[0m\u001b[0;34m.\u001b[0m\u001b[0mcheck_response\u001b[0m\u001b[0;34m(\u001b[0m\u001b[0mresponse\u001b[0m\u001b[0;34m)\u001b[0m\u001b[0;34m\u001b[0m\u001b[0;34m\u001b[0m\u001b[0m\n\u001b[0m\u001b[1;32m    348\u001b[0m             \u001b[0mresponse\u001b[0m\u001b[0;34m[\u001b[0m\u001b[0;34m\"value\"\u001b[0m\u001b[0;34m]\u001b[0m \u001b[0;34m=\u001b[0m \u001b[0mself\u001b[0m\u001b[0;34m.\u001b[0m\u001b[0m_unwrap_value\u001b[0m\u001b[0;34m(\u001b[0m\u001b[0mresponse\u001b[0m\u001b[0;34m.\u001b[0m\u001b[0mget\u001b[0m\u001b[0;34m(\u001b[0m\u001b[0;34m\"value\"\u001b[0m\u001b[0;34m,\u001b[0m \u001b[0;32mNone\u001b[0m\u001b[0;34m)\u001b[0m\u001b[0;34m)\u001b[0m\u001b[0;34m\u001b[0m\u001b[0;34m\u001b[0m\u001b[0m\n\u001b[1;32m    349\u001b[0m             \u001b[0;32mreturn\u001b[0m \u001b[0mresponse\u001b[0m\u001b[0;34m\u001b[0m\u001b[0;34m\u001b[0m\u001b[0m\n",
            "\u001b[0;32m/usr/local/lib/python3.10/dist-packages/selenium/webdriver/remote/errorhandler.py\u001b[0m in \u001b[0;36mcheck_response\u001b[0;34m(self, response)\u001b[0m\n\u001b[1;32m    227\u001b[0m                 \u001b[0malert_text\u001b[0m \u001b[0;34m=\u001b[0m \u001b[0mvalue\u001b[0m\u001b[0;34m[\u001b[0m\u001b[0;34m\"alert\"\u001b[0m\u001b[0;34m]\u001b[0m\u001b[0;34m.\u001b[0m\u001b[0mget\u001b[0m\u001b[0;34m(\u001b[0m\u001b[0;34m\"text\"\u001b[0m\u001b[0;34m)\u001b[0m\u001b[0;34m\u001b[0m\u001b[0;34m\u001b[0m\u001b[0m\n\u001b[1;32m    228\u001b[0m             \u001b[0;32mraise\u001b[0m \u001b[0mexception_class\u001b[0m\u001b[0;34m(\u001b[0m\u001b[0mmessage\u001b[0m\u001b[0;34m,\u001b[0m \u001b[0mscreen\u001b[0m\u001b[0;34m,\u001b[0m \u001b[0mstacktrace\u001b[0m\u001b[0;34m,\u001b[0m \u001b[0malert_text\u001b[0m\u001b[0;34m)\u001b[0m  \u001b[0;31m# type: ignore[call-arg]  # mypy is not smart enough here\u001b[0m\u001b[0;34m\u001b[0m\u001b[0;34m\u001b[0m\u001b[0m\n\u001b[0;32m--> 229\u001b[0;31m         \u001b[0;32mraise\u001b[0m \u001b[0mexception_class\u001b[0m\u001b[0;34m(\u001b[0m\u001b[0mmessage\u001b[0m\u001b[0;34m,\u001b[0m \u001b[0mscreen\u001b[0m\u001b[0;34m,\u001b[0m \u001b[0mstacktrace\u001b[0m\u001b[0;34m)\u001b[0m\u001b[0;34m\u001b[0m\u001b[0;34m\u001b[0m\u001b[0m\n\u001b[0m",
            "\u001b[0;31mSessionNotCreatedException\u001b[0m: Message: session not created: Chrome failed to start: exited normally.\n  (session not created: DevToolsActivePort file doesn't exist)\n  (The process started from chrome location /root/.cache/selenium/chrome/linux64/119.0.6045.105/chrome is no longer running, so ChromeDriver is assuming that Chrome has crashed.)\nStacktrace:\n#0 0x55ce008f45e3 <unknown>\n#1 0x55ce005b70b7 <unknown>\n#2 0x55ce005ede55 <unknown>\n#3 0x55ce005eab81 <unknown>\n#4 0x55ce0063547f <unknown>\n#5 0x55ce0062bcc3 <unknown>\n#6 0x55ce005f70e4 <unknown>\n#7 0x55ce005f80ae <unknown>\n#8 0x55ce008bace1 <unknown>\n#9 0x55ce008beb7e <unknown>\n#10 0x55ce008a84b5 <unknown>\n#11 0x55ce008bf7d6 <unknown>\n#12 0x55ce0088bdbf <unknown>\n#13 0x55ce008e2748 <unknown>\n#14 0x55ce008e2917 <unknown>\n#15 0x55ce008f3773 <unknown>\n#16 0x79415b28cac3 <unknown>\n"
          ]
        }
      ],
      "source": [
        "from selenium import webdriver\n",
        "from selenium.webdriver.chrome.service import Service as ChromeService\n",
        "from webdriver_manager.chrome import ChromeDriverManager\n",
        "import time\n",
        "\n",
        "driver = webdriver.Chrome(service=ChromeService())\n",
        "\n",
        "driver.get(\"https://google.com\")\n",
        "\n",
        "time.sleep(2)\n",
        "driver.close()\n",
        "driver.quit()\n"
      ]
    },
    {
      "cell_type": "code",
      "execution_count": null,
      "metadata": {
        "colab": {
          "base_uri": "https://localhost:8080/",
          "height": 442
        },
        "id": "uIX0fLRnUiJ7",
        "outputId": "970ae5ca-0114-44e5-f70e-717ce84686bf"
      },
      "outputs": [
        {
          "output_type": "error",
          "ename": "AttributeError",
          "evalue": "ignored",
          "traceback": [
            "\u001b[0;31m---------------------------------------------------------------------------\u001b[0m",
            "\u001b[0;31mAttributeError\u001b[0m                            Traceback (most recent call last)",
            "\u001b[0;32m/usr/local/lib/python3.10/dist-packages/selenium/webdriver/common/driver_finder.py\u001b[0m in \u001b[0;36mget_path\u001b[0;34m(service, options)\u001b[0m\n\u001b[1;32m     37\u001b[0m         \u001b[0;32mtry\u001b[0m\u001b[0;34m:\u001b[0m\u001b[0;34m\u001b[0m\u001b[0;34m\u001b[0m\u001b[0m\n\u001b[0;32m---> 38\u001b[0;31m             \u001b[0mpath\u001b[0m \u001b[0;34m=\u001b[0m \u001b[0mSeleniumManager\u001b[0m\u001b[0;34m(\u001b[0m\u001b[0;34m)\u001b[0m\u001b[0;34m.\u001b[0m\u001b[0mdriver_location\u001b[0m\u001b[0;34m(\u001b[0m\u001b[0moptions\u001b[0m\u001b[0;34m)\u001b[0m \u001b[0;32mif\u001b[0m \u001b[0mpath\u001b[0m \u001b[0;32mis\u001b[0m \u001b[0;32mNone\u001b[0m \u001b[0;32melse\u001b[0m \u001b[0mpath\u001b[0m\u001b[0;34m\u001b[0m\u001b[0;34m\u001b[0m\u001b[0m\n\u001b[0m\u001b[1;32m     39\u001b[0m         \u001b[0;32mexcept\u001b[0m \u001b[0mException\u001b[0m \u001b[0;32mas\u001b[0m \u001b[0merr\u001b[0m\u001b[0;34m:\u001b[0m\u001b[0;34m\u001b[0m\u001b[0;34m\u001b[0m\u001b[0m\n",
            "\u001b[0;32m/usr/local/lib/python3.10/dist-packages/selenium/webdriver/common/selenium_manager.py\u001b[0m in \u001b[0;36mdriver_location\u001b[0;34m(self, options)\u001b[0m\n\u001b[1;32m     74\u001b[0m \u001b[0;34m\u001b[0m\u001b[0m\n\u001b[0;32m---> 75\u001b[0;31m         \u001b[0mbrowser\u001b[0m \u001b[0;34m=\u001b[0m \u001b[0moptions\u001b[0m\u001b[0;34m.\u001b[0m\u001b[0mcapabilities\u001b[0m\u001b[0;34m[\u001b[0m\u001b[0;34m\"browserName\"\u001b[0m\u001b[0;34m]\u001b[0m\u001b[0;34m\u001b[0m\u001b[0;34m\u001b[0m\u001b[0m\n\u001b[0m\u001b[1;32m     76\u001b[0m \u001b[0;34m\u001b[0m\u001b[0m\n",
            "\u001b[0;31mAttributeError\u001b[0m: 'Service' object has no attribute 'capabilities'",
            "\nDuring handling of the above exception, another exception occurred:\n",
            "\u001b[0;31mAttributeError\u001b[0m                            Traceback (most recent call last)",
            "\u001b[0;32m<ipython-input-13-fbedea4c201e>\u001b[0m in \u001b[0;36m<cell line: 6>\u001b[0;34m()\u001b[0m\n\u001b[1;32m      4\u001b[0m \u001b[0;32mimport\u001b[0m \u001b[0mtime\u001b[0m\u001b[0;34m\u001b[0m\u001b[0;34m\u001b[0m\u001b[0m\n\u001b[1;32m      5\u001b[0m \u001b[0;34m\u001b[0m\u001b[0m\n\u001b[0;32m----> 6\u001b[0;31m \u001b[0mdriver\u001b[0m \u001b[0;34m=\u001b[0m \u001b[0mwebdriver\u001b[0m\u001b[0;34m.\u001b[0m\u001b[0mChrome\u001b[0m\u001b[0;34m(\u001b[0m\u001b[0mChromeService\u001b[0m\u001b[0;34m(\u001b[0m\u001b[0mChromeDriverManager\u001b[0m\u001b[0;34m(\u001b[0m\u001b[0;34m)\u001b[0m\u001b[0;34m)\u001b[0m\u001b[0;34m)\u001b[0m\u001b[0;34m\u001b[0m\u001b[0;34m\u001b[0m\u001b[0m\n\u001b[0m\u001b[1;32m      7\u001b[0m \u001b[0;34m\u001b[0m\u001b[0m\n\u001b[1;32m      8\u001b[0m \u001b[0mdriver\u001b[0m\u001b[0;34m.\u001b[0m\u001b[0mget\u001b[0m\u001b[0;34m(\u001b[0m\u001b[0;34m\"https://google.com\"\u001b[0m\u001b[0;34m)\u001b[0m\u001b[0;34m\u001b[0m\u001b[0;34m\u001b[0m\u001b[0m\n",
            "\u001b[0;32m/usr/local/lib/python3.10/dist-packages/selenium/webdriver/chrome/webdriver.py\u001b[0m in \u001b[0;36m__init__\u001b[0;34m(self, options, service, keep_alive)\u001b[0m\n\u001b[1;32m     43\u001b[0m         \u001b[0moptions\u001b[0m \u001b[0;34m=\u001b[0m \u001b[0moptions\u001b[0m \u001b[0;32mif\u001b[0m \u001b[0moptions\u001b[0m \u001b[0;32melse\u001b[0m \u001b[0mOptions\u001b[0m\u001b[0;34m(\u001b[0m\u001b[0;34m)\u001b[0m\u001b[0;34m\u001b[0m\u001b[0;34m\u001b[0m\u001b[0m\n\u001b[1;32m     44\u001b[0m \u001b[0;34m\u001b[0m\u001b[0m\n\u001b[0;32m---> 45\u001b[0;31m         super().__init__(\n\u001b[0m\u001b[1;32m     46\u001b[0m             \u001b[0mDesiredCapabilities\u001b[0m\u001b[0;34m.\u001b[0m\u001b[0mCHROME\u001b[0m\u001b[0;34m[\u001b[0m\u001b[0;34m\"browserName\"\u001b[0m\u001b[0;34m]\u001b[0m\u001b[0;34m,\u001b[0m\u001b[0;34m\u001b[0m\u001b[0;34m\u001b[0m\u001b[0m\n\u001b[1;32m     47\u001b[0m             \u001b[0;34m\"goog\"\u001b[0m\u001b[0;34m,\u001b[0m\u001b[0;34m\u001b[0m\u001b[0;34m\u001b[0m\u001b[0m\n",
            "\u001b[0;32m/usr/local/lib/python3.10/dist-packages/selenium/webdriver/chromium/webdriver.py\u001b[0m in \u001b[0;36m__init__\u001b[0;34m(self, browser_name, vendor_prefix, options, service, keep_alive)\u001b[0m\n\u001b[1;32m     49\u001b[0m         \u001b[0mself\u001b[0m\u001b[0;34m.\u001b[0m\u001b[0mservice\u001b[0m \u001b[0;34m=\u001b[0m \u001b[0mservice\u001b[0m\u001b[0;34m\u001b[0m\u001b[0;34m\u001b[0m\u001b[0m\n\u001b[1;32m     50\u001b[0m \u001b[0;34m\u001b[0m\u001b[0m\n\u001b[0;32m---> 51\u001b[0;31m         \u001b[0mself\u001b[0m\u001b[0;34m.\u001b[0m\u001b[0mservice\u001b[0m\u001b[0;34m.\u001b[0m\u001b[0mpath\u001b[0m \u001b[0;34m=\u001b[0m \u001b[0mDriverFinder\u001b[0m\u001b[0;34m.\u001b[0m\u001b[0mget_path\u001b[0m\u001b[0;34m(\u001b[0m\u001b[0mself\u001b[0m\u001b[0;34m.\u001b[0m\u001b[0mservice\u001b[0m\u001b[0;34m,\u001b[0m \u001b[0moptions\u001b[0m\u001b[0;34m)\u001b[0m\u001b[0;34m\u001b[0m\u001b[0;34m\u001b[0m\u001b[0m\n\u001b[0m\u001b[1;32m     52\u001b[0m \u001b[0;34m\u001b[0m\u001b[0m\n\u001b[1;32m     53\u001b[0m         \u001b[0mself\u001b[0m\u001b[0;34m.\u001b[0m\u001b[0mservice\u001b[0m\u001b[0;34m.\u001b[0m\u001b[0mstart\u001b[0m\u001b[0;34m(\u001b[0m\u001b[0;34m)\u001b[0m\u001b[0;34m\u001b[0m\u001b[0;34m\u001b[0m\u001b[0m\n",
            "\u001b[0;32m/usr/local/lib/python3.10/dist-packages/selenium/webdriver/common/driver_finder.py\u001b[0m in \u001b[0;36mget_path\u001b[0;34m(service, options)\u001b[0m\n\u001b[1;32m     38\u001b[0m             \u001b[0mpath\u001b[0m \u001b[0;34m=\u001b[0m \u001b[0mSeleniumManager\u001b[0m\u001b[0;34m(\u001b[0m\u001b[0;34m)\u001b[0m\u001b[0;34m.\u001b[0m\u001b[0mdriver_location\u001b[0m\u001b[0;34m(\u001b[0m\u001b[0moptions\u001b[0m\u001b[0;34m)\u001b[0m \u001b[0;32mif\u001b[0m \u001b[0mpath\u001b[0m \u001b[0;32mis\u001b[0m \u001b[0;32mNone\u001b[0m \u001b[0;32melse\u001b[0m \u001b[0mpath\u001b[0m\u001b[0;34m\u001b[0m\u001b[0;34m\u001b[0m\u001b[0m\n\u001b[1;32m     39\u001b[0m         \u001b[0;32mexcept\u001b[0m \u001b[0mException\u001b[0m \u001b[0;32mas\u001b[0m \u001b[0merr\u001b[0m\u001b[0;34m:\u001b[0m\u001b[0;34m\u001b[0m\u001b[0;34m\u001b[0m\u001b[0m\n\u001b[0;32m---> 40\u001b[0;31m             \u001b[0mmsg\u001b[0m \u001b[0;34m=\u001b[0m \u001b[0;34mf\"Unable to obtain driver for {options.capabilities['browserName']} using Selenium Manager.\"\u001b[0m\u001b[0;34m\u001b[0m\u001b[0;34m\u001b[0m\u001b[0m\n\u001b[0m\u001b[1;32m     41\u001b[0m             \u001b[0;32mraise\u001b[0m \u001b[0mNoSuchDriverException\u001b[0m\u001b[0;34m(\u001b[0m\u001b[0mmsg\u001b[0m\u001b[0;34m)\u001b[0m \u001b[0;32mfrom\u001b[0m \u001b[0merr\u001b[0m\u001b[0;34m\u001b[0m\u001b[0;34m\u001b[0m\u001b[0m\n\u001b[1;32m     42\u001b[0m \u001b[0;34m\u001b[0m\u001b[0m\n",
            "\u001b[0;31mAttributeError\u001b[0m: 'Service' object has no attribute 'capabilities'"
          ]
        }
      ],
      "source": [
        "from selenium import webdriver\n",
        "from selenium.webdriver.chrome.service import Service as ChromeService\n",
        "from webdriver_manager.chrome import ChromeDriverManager\n",
        "import time\n",
        "\n",
        "driver = webdriver.Chrome(ChromeService(ChromeDriverManager()))\n",
        "\n",
        "driver.get(\"https://google.com\")\n",
        "\n",
        "time.sleep(5)\n",
        "search_box = driver.find_element_by_name('q')\n",
        "\n",
        "search_box.send_keys('ChromeDriver')\n",
        "\n",
        "search_box.submit()\n",
        "\n",
        "time.sleep(5) # Let the user actually see something!\n",
        "\n",
        "driver.quit()\n"
      ]
    },
    {
      "cell_type": "code",
      "execution_count": null,
      "metadata": {
        "id": "qYkdD4-eUiJ8"
      },
      "outputs": [],
      "source": [
        "d={}"
      ]
    },
    {
      "cell_type": "code",
      "execution_count": null,
      "metadata": {
        "scrolled": true,
        "colab": {
          "base_uri": "https://localhost:8080/",
          "height": 703
        },
        "id": "SI4ZROrOUiJ8",
        "outputId": "4695b48b-cf74-4029-f0d4-75991c6d7f74"
      },
      "outputs": [
        {
          "output_type": "error",
          "ename": "SessionNotCreatedException",
          "evalue": "ignored",
          "traceback": [
            "\u001b[0;31m---------------------------------------------------------------------------\u001b[0m",
            "\u001b[0;31mSessionNotCreatedException\u001b[0m                Traceback (most recent call last)",
            "\u001b[0;32m<ipython-input-15-0cdad224a2f1>\u001b[0m in \u001b[0;36m<cell line: 368>\u001b[0;34m()\u001b[0m\n\u001b[1;32m    369\u001b[0m \u001b[0;34m\u001b[0m\u001b[0m\n\u001b[1;32m    370\u001b[0m \u001b[0;34m\u001b[0m\u001b[0m\n\u001b[0;32m--> 371\u001b[0;31m     \u001b[0mbot\u001b[0m \u001b[0;34m=\u001b[0m \u001b[0mEasyApplyLinkedin\u001b[0m\u001b[0;34m(\u001b[0m\u001b[0mdata\u001b[0m\u001b[0;34m)\u001b[0m\u001b[0;34m\u001b[0m\u001b[0;34m\u001b[0m\u001b[0m\n\u001b[0m\u001b[1;32m    372\u001b[0m     \u001b[0mbot\u001b[0m\u001b[0;34m.\u001b[0m\u001b[0mapply\u001b[0m\u001b[0;34m(\u001b[0m\u001b[0;34m)\u001b[0m\u001b[0;34m\u001b[0m\u001b[0;34m\u001b[0m\u001b[0m\n",
            "\u001b[0;32m<ipython-input-15-0cdad224a2f1>\u001b[0m in \u001b[0;36m__init__\u001b[0;34m(self, data)\u001b[0m\n\u001b[1;32m     20\u001b[0m         \u001b[0mself\u001b[0m\u001b[0;34m.\u001b[0m\u001b[0mkeywords\u001b[0m \u001b[0;34m=\u001b[0m \u001b[0mdata\u001b[0m\u001b[0;34m[\u001b[0m\u001b[0;34m'keywords'\u001b[0m\u001b[0;34m]\u001b[0m\u001b[0;34m\u001b[0m\u001b[0;34m\u001b[0m\u001b[0m\n\u001b[1;32m     21\u001b[0m         \u001b[0mself\u001b[0m\u001b[0;34m.\u001b[0m\u001b[0mlocation\u001b[0m \u001b[0;34m=\u001b[0m \u001b[0mdata\u001b[0m\u001b[0;34m[\u001b[0m\u001b[0;34m'location'\u001b[0m\u001b[0;34m]\u001b[0m\u001b[0;34m\u001b[0m\u001b[0;34m\u001b[0m\u001b[0m\n\u001b[0;32m---> 22\u001b[0;31m         \u001b[0mself\u001b[0m\u001b[0;34m.\u001b[0m\u001b[0mdriver\u001b[0m \u001b[0;34m=\u001b[0m \u001b[0mwebdriver\u001b[0m\u001b[0;34m.\u001b[0m\u001b[0mChrome\u001b[0m\u001b[0;34m(\u001b[0m\u001b[0mservice\u001b[0m\u001b[0;34m=\u001b[0m\u001b[0mChromeService\u001b[0m\u001b[0;34m(\u001b[0m\u001b[0;34m)\u001b[0m\u001b[0;34m)\u001b[0m\u001b[0;34m\u001b[0m\u001b[0;34m\u001b[0m\u001b[0m\n\u001b[0m\u001b[1;32m     23\u001b[0m \u001b[0;34m\u001b[0m\u001b[0m\n\u001b[1;32m     24\u001b[0m     \u001b[0;32mdef\u001b[0m \u001b[0mjob_search1\u001b[0m\u001b[0;34m(\u001b[0m\u001b[0mself\u001b[0m\u001b[0;34m)\u001b[0m\u001b[0;34m:\u001b[0m\u001b[0;34m\u001b[0m\u001b[0;34m\u001b[0m\u001b[0m\n",
            "\u001b[0;32m/usr/local/lib/python3.10/dist-packages/selenium/webdriver/chrome/webdriver.py\u001b[0m in \u001b[0;36m__init__\u001b[0;34m(self, options, service, keep_alive)\u001b[0m\n\u001b[1;32m     43\u001b[0m         \u001b[0moptions\u001b[0m \u001b[0;34m=\u001b[0m \u001b[0moptions\u001b[0m \u001b[0;32mif\u001b[0m \u001b[0moptions\u001b[0m \u001b[0;32melse\u001b[0m \u001b[0mOptions\u001b[0m\u001b[0;34m(\u001b[0m\u001b[0;34m)\u001b[0m\u001b[0;34m\u001b[0m\u001b[0;34m\u001b[0m\u001b[0m\n\u001b[1;32m     44\u001b[0m \u001b[0;34m\u001b[0m\u001b[0m\n\u001b[0;32m---> 45\u001b[0;31m         super().__init__(\n\u001b[0m\u001b[1;32m     46\u001b[0m             \u001b[0mDesiredCapabilities\u001b[0m\u001b[0;34m.\u001b[0m\u001b[0mCHROME\u001b[0m\u001b[0;34m[\u001b[0m\u001b[0;34m\"browserName\"\u001b[0m\u001b[0;34m]\u001b[0m\u001b[0;34m,\u001b[0m\u001b[0;34m\u001b[0m\u001b[0;34m\u001b[0m\u001b[0m\n\u001b[1;32m     47\u001b[0m             \u001b[0;34m\"goog\"\u001b[0m\u001b[0;34m,\u001b[0m\u001b[0;34m\u001b[0m\u001b[0;34m\u001b[0m\u001b[0m\n",
            "\u001b[0;32m/usr/local/lib/python3.10/dist-packages/selenium/webdriver/chromium/webdriver.py\u001b[0m in \u001b[0;36m__init__\u001b[0;34m(self, browser_name, vendor_prefix, options, service, keep_alive)\u001b[0m\n\u001b[1;32m     54\u001b[0m \u001b[0;34m\u001b[0m\u001b[0m\n\u001b[1;32m     55\u001b[0m         \u001b[0;32mtry\u001b[0m\u001b[0;34m:\u001b[0m\u001b[0;34m\u001b[0m\u001b[0;34m\u001b[0m\u001b[0m\n\u001b[0;32m---> 56\u001b[0;31m             super().__init__(\n\u001b[0m\u001b[1;32m     57\u001b[0m                 command_executor=ChromiumRemoteConnection(\n\u001b[1;32m     58\u001b[0m                     \u001b[0mremote_server_addr\u001b[0m\u001b[0;34m=\u001b[0m\u001b[0mself\u001b[0m\u001b[0;34m.\u001b[0m\u001b[0mservice\u001b[0m\u001b[0;34m.\u001b[0m\u001b[0mservice_url\u001b[0m\u001b[0;34m,\u001b[0m\u001b[0;34m\u001b[0m\u001b[0;34m\u001b[0m\u001b[0m\n",
            "\u001b[0;32m/usr/local/lib/python3.10/dist-packages/selenium/webdriver/remote/webdriver.py\u001b[0m in \u001b[0;36m__init__\u001b[0;34m(self, command_executor, keep_alive, file_detector, options)\u001b[0m\n\u001b[1;32m    206\u001b[0m         \u001b[0mself\u001b[0m\u001b[0;34m.\u001b[0m\u001b[0m_authenticator_id\u001b[0m \u001b[0;34m=\u001b[0m \u001b[0;32mNone\u001b[0m\u001b[0;34m\u001b[0m\u001b[0;34m\u001b[0m\u001b[0m\n\u001b[1;32m    207\u001b[0m         \u001b[0mself\u001b[0m\u001b[0;34m.\u001b[0m\u001b[0mstart_client\u001b[0m\u001b[0;34m(\u001b[0m\u001b[0;34m)\u001b[0m\u001b[0;34m\u001b[0m\u001b[0;34m\u001b[0m\u001b[0m\n\u001b[0;32m--> 208\u001b[0;31m         \u001b[0mself\u001b[0m\u001b[0;34m.\u001b[0m\u001b[0mstart_session\u001b[0m\u001b[0;34m(\u001b[0m\u001b[0mcapabilities\u001b[0m\u001b[0;34m)\u001b[0m\u001b[0;34m\u001b[0m\u001b[0;34m\u001b[0m\u001b[0m\n\u001b[0m\u001b[1;32m    209\u001b[0m \u001b[0;34m\u001b[0m\u001b[0m\n\u001b[1;32m    210\u001b[0m     \u001b[0;32mdef\u001b[0m \u001b[0m__repr__\u001b[0m\u001b[0;34m(\u001b[0m\u001b[0mself\u001b[0m\u001b[0;34m)\u001b[0m\u001b[0;34m:\u001b[0m\u001b[0;34m\u001b[0m\u001b[0;34m\u001b[0m\u001b[0m\n",
            "\u001b[0;32m/usr/local/lib/python3.10/dist-packages/selenium/webdriver/remote/webdriver.py\u001b[0m in \u001b[0;36mstart_session\u001b[0;34m(self, capabilities)\u001b[0m\n\u001b[1;32m    290\u001b[0m \u001b[0;34m\u001b[0m\u001b[0m\n\u001b[1;32m    291\u001b[0m         \u001b[0mcaps\u001b[0m \u001b[0;34m=\u001b[0m \u001b[0m_create_caps\u001b[0m\u001b[0;34m(\u001b[0m\u001b[0mcapabilities\u001b[0m\u001b[0;34m)\u001b[0m\u001b[0;34m\u001b[0m\u001b[0;34m\u001b[0m\u001b[0m\n\u001b[0;32m--> 292\u001b[0;31m         \u001b[0mresponse\u001b[0m \u001b[0;34m=\u001b[0m \u001b[0mself\u001b[0m\u001b[0;34m.\u001b[0m\u001b[0mexecute\u001b[0m\u001b[0;34m(\u001b[0m\u001b[0mCommand\u001b[0m\u001b[0;34m.\u001b[0m\u001b[0mNEW_SESSION\u001b[0m\u001b[0;34m,\u001b[0m \u001b[0mcaps\u001b[0m\u001b[0;34m)\u001b[0m\u001b[0;34m[\u001b[0m\u001b[0;34m\"value\"\u001b[0m\u001b[0;34m]\u001b[0m\u001b[0;34m\u001b[0m\u001b[0;34m\u001b[0m\u001b[0m\n\u001b[0m\u001b[1;32m    293\u001b[0m         \u001b[0mself\u001b[0m\u001b[0;34m.\u001b[0m\u001b[0msession_id\u001b[0m \u001b[0;34m=\u001b[0m \u001b[0mresponse\u001b[0m\u001b[0;34m.\u001b[0m\u001b[0mget\u001b[0m\u001b[0;34m(\u001b[0m\u001b[0;34m\"sessionId\"\u001b[0m\u001b[0;34m)\u001b[0m\u001b[0;34m\u001b[0m\u001b[0;34m\u001b[0m\u001b[0m\n\u001b[1;32m    294\u001b[0m         \u001b[0mself\u001b[0m\u001b[0;34m.\u001b[0m\u001b[0mcaps\u001b[0m \u001b[0;34m=\u001b[0m \u001b[0mresponse\u001b[0m\u001b[0;34m.\u001b[0m\u001b[0mget\u001b[0m\u001b[0;34m(\u001b[0m\u001b[0;34m\"capabilities\"\u001b[0m\u001b[0;34m)\u001b[0m\u001b[0;34m\u001b[0m\u001b[0;34m\u001b[0m\u001b[0m\n",
            "\u001b[0;32m/usr/local/lib/python3.10/dist-packages/selenium/webdriver/remote/webdriver.py\u001b[0m in \u001b[0;36mexecute\u001b[0;34m(self, driver_command, params)\u001b[0m\n\u001b[1;32m    345\u001b[0m         \u001b[0mresponse\u001b[0m \u001b[0;34m=\u001b[0m \u001b[0mself\u001b[0m\u001b[0;34m.\u001b[0m\u001b[0mcommand_executor\u001b[0m\u001b[0;34m.\u001b[0m\u001b[0mexecute\u001b[0m\u001b[0;34m(\u001b[0m\u001b[0mdriver_command\u001b[0m\u001b[0;34m,\u001b[0m \u001b[0mparams\u001b[0m\u001b[0;34m)\u001b[0m\u001b[0;34m\u001b[0m\u001b[0;34m\u001b[0m\u001b[0m\n\u001b[1;32m    346\u001b[0m         \u001b[0;32mif\u001b[0m \u001b[0mresponse\u001b[0m\u001b[0;34m:\u001b[0m\u001b[0;34m\u001b[0m\u001b[0;34m\u001b[0m\u001b[0m\n\u001b[0;32m--> 347\u001b[0;31m             \u001b[0mself\u001b[0m\u001b[0;34m.\u001b[0m\u001b[0merror_handler\u001b[0m\u001b[0;34m.\u001b[0m\u001b[0mcheck_response\u001b[0m\u001b[0;34m(\u001b[0m\u001b[0mresponse\u001b[0m\u001b[0;34m)\u001b[0m\u001b[0;34m\u001b[0m\u001b[0;34m\u001b[0m\u001b[0m\n\u001b[0m\u001b[1;32m    348\u001b[0m             \u001b[0mresponse\u001b[0m\u001b[0;34m[\u001b[0m\u001b[0;34m\"value\"\u001b[0m\u001b[0;34m]\u001b[0m \u001b[0;34m=\u001b[0m \u001b[0mself\u001b[0m\u001b[0;34m.\u001b[0m\u001b[0m_unwrap_value\u001b[0m\u001b[0;34m(\u001b[0m\u001b[0mresponse\u001b[0m\u001b[0;34m.\u001b[0m\u001b[0mget\u001b[0m\u001b[0;34m(\u001b[0m\u001b[0;34m\"value\"\u001b[0m\u001b[0;34m,\u001b[0m \u001b[0;32mNone\u001b[0m\u001b[0;34m)\u001b[0m\u001b[0;34m)\u001b[0m\u001b[0;34m\u001b[0m\u001b[0;34m\u001b[0m\u001b[0m\n\u001b[1;32m    349\u001b[0m             \u001b[0;32mreturn\u001b[0m \u001b[0mresponse\u001b[0m\u001b[0;34m\u001b[0m\u001b[0;34m\u001b[0m\u001b[0m\n",
            "\u001b[0;32m/usr/local/lib/python3.10/dist-packages/selenium/webdriver/remote/errorhandler.py\u001b[0m in \u001b[0;36mcheck_response\u001b[0;34m(self, response)\u001b[0m\n\u001b[1;32m    227\u001b[0m                 \u001b[0malert_text\u001b[0m \u001b[0;34m=\u001b[0m \u001b[0mvalue\u001b[0m\u001b[0;34m[\u001b[0m\u001b[0;34m\"alert\"\u001b[0m\u001b[0;34m]\u001b[0m\u001b[0;34m.\u001b[0m\u001b[0mget\u001b[0m\u001b[0;34m(\u001b[0m\u001b[0;34m\"text\"\u001b[0m\u001b[0;34m)\u001b[0m\u001b[0;34m\u001b[0m\u001b[0;34m\u001b[0m\u001b[0m\n\u001b[1;32m    228\u001b[0m             \u001b[0;32mraise\u001b[0m \u001b[0mexception_class\u001b[0m\u001b[0;34m(\u001b[0m\u001b[0mmessage\u001b[0m\u001b[0;34m,\u001b[0m \u001b[0mscreen\u001b[0m\u001b[0;34m,\u001b[0m \u001b[0mstacktrace\u001b[0m\u001b[0;34m,\u001b[0m \u001b[0malert_text\u001b[0m\u001b[0;34m)\u001b[0m  \u001b[0;31m# type: ignore[call-arg]  # mypy is not smart enough here\u001b[0m\u001b[0;34m\u001b[0m\u001b[0;34m\u001b[0m\u001b[0m\n\u001b[0;32m--> 229\u001b[0;31m         \u001b[0;32mraise\u001b[0m \u001b[0mexception_class\u001b[0m\u001b[0;34m(\u001b[0m\u001b[0mmessage\u001b[0m\u001b[0;34m,\u001b[0m \u001b[0mscreen\u001b[0m\u001b[0;34m,\u001b[0m \u001b[0mstacktrace\u001b[0m\u001b[0;34m)\u001b[0m\u001b[0;34m\u001b[0m\u001b[0;34m\u001b[0m\u001b[0m\n\u001b[0m",
            "\u001b[0;31mSessionNotCreatedException\u001b[0m: Message: session not created: Chrome failed to start: exited normally.\n  (session not created: DevToolsActivePort file doesn't exist)\n  (The process started from chrome location /root/.cache/selenium/chrome/linux64/119.0.6045.105/chrome is no longer running, so ChromeDriver is assuming that Chrome has crashed.)\nStacktrace:\n#0 0x5af510a5a5e3 <unknown>\n#1 0x5af51071d0b7 <unknown>\n#2 0x5af510753e55 <unknown>\n#3 0x5af510750b81 <unknown>\n#4 0x5af51079b47f <unknown>\n#5 0x5af510791cc3 <unknown>\n#6 0x5af51075d0e4 <unknown>\n#7 0x5af51075e0ae <unknown>\n#8 0x5af510a20ce1 <unknown>\n#9 0x5af510a24b7e <unknown>\n#10 0x5af510a0e4b5 <unknown>\n#11 0x5af510a257d6 <unknown>\n#12 0x5af5109f1dbf <unknown>\n#13 0x5af510a48748 <unknown>\n#14 0x5af510a48917 <unknown>\n#15 0x5af510a59773 <unknown>\n#16 0x7c9dd4f41ac3 <unknown>\n"
          ]
        }
      ],
      "source": [
        "\n",
        "import time\n",
        "\n",
        "from selenium import webdriver\n",
        "\n",
        "from selenium.webdriver.chrome.service import Service\n",
        "\n",
        "from selenium import webdriver\n",
        "from selenium.webdriver.chrome.service import Service as ChromeService\n",
        "from webdriver_manager.chrome import ChromeDriverManager\n",
        "import time\n",
        "\n",
        "\n",
        "class EasyApplyLinkedin:\n",
        "\n",
        "    def __init__(self, data):\n",
        "        \"\"\"Parameter initialization\"\"\"\n",
        "\n",
        "        self.email = data['email']\n",
        "        self.password = data['password']\n",
        "        self.keywords = data['keywords']\n",
        "        self.location = data['location']\n",
        "        self.driver = webdriver.Chrome(service=ChromeService())\n",
        "\n",
        "    def job_search1(self):\n",
        "      \"\"\"This function goes to the 'Jobs' section a looks for all the jobs that matches the keywords and location\"\"\"\n",
        "\n",
        "      # Jobs methods selected\n",
        "      easy_apply = '?f_AL=true&f_WT=2&geoId=92000000'\n",
        "\n",
        "      job_link = self.driver.get('https://www.linkedin.com/jobs/search/'+ easy_apply +'&keywords='+ self.keywords +'&location=' + self.location)\n",
        "\n",
        "    def login_linkedin(self):\n",
        "        \"\"\"This function logs into your personal LinkedIn profile\"\"\"\n",
        "\n",
        "        # go to the LinkedIn login url\n",
        "        self.driver.get(\"https://www.linkedin.com/login\")\n",
        "\n",
        "        # introduce email and password and hit enter\n",
        "        login_email = self.driver.find_element(By.NAME, 'session_key')\n",
        "        login_email.clear()\n",
        "        login_email.send_keys(self.email)\n",
        "        login_pass = self.driver.find_element(By.NAME, 'session_password')\n",
        "        login_pass.clear()\n",
        "        login_pass.send_keys(self.password)\n",
        "        login_pass.send_keys(Keys.RETURN)\n",
        "\n",
        "    def job_search(self):\n",
        "        \"\"\"This function goes to the 'Jobs' section and looks for all the jobs that match the keywords and location\"\"\"\n",
        "\n",
        "        # go to Jobs\n",
        "        self.driver.get(\"https://www.linkedin.com/jobs\")\n",
        "\n",
        "        # search based on keywords and location and hit enter\n",
        "        search_keywords = self.driver.find_element(By.CSS_SELECTOR, \"input[aria-label='Search by title, skill, or company']\")\n",
        "        search_keywords.clear()\n",
        "        search_keywords.send_keys(self.keywords)\n",
        "        time.sleep(8)\n",
        "        search_location=search_keywords.send_keys(Keys.TAB)\n",
        "        search_location=search_keywords.send_keys(Keys.RETURN)\n",
        "        # search_location.send_keys(self.location)\n",
        "        # search_location.send_keys(Keys.RETURN)\n",
        "        time.sleep(5)\n",
        "\n",
        "    def filter(self):\n",
        "        \"\"\"This function filters all the job results by 'Easy Apply'\"\"\"\n",
        "\n",
        "        # select all filters, click on Easy Apply, and apply the filter\n",
        "        all_filters_button = self.driver.find_element(By.XPATH, \"//button[@data-control-name='all_filters']\")\n",
        "        all_filters_button.click()\n",
        "        time.sleep(1)\n",
        "        easy_apply_button = self.driver.find_element(By.XPATH, \"//label[@for='f_AL']\")\n",
        "        easy_apply_button.click()\n",
        "        time.sleep(2)\n",
        "        apply_filter_button = self.driver.find_element(By.XPATH, \"//button[@data-control-name='all_filters_apply']\")\n",
        "        apply_filter_button.click()\n",
        "\n",
        "    def find_offers(self):\n",
        "        \"\"\"This function finds all the offers through all the pages of the search and filter\"\"\"\n",
        "\n",
        "        # find the total amount of results (if the results are above 24 - more than one page -, we will scroll through all available pages)\n",
        "        total_results = self.driver.find_element(By.CLASS_NAME, \"display-flex.t-12.t-black--light.t-normal\")\n",
        "        total_results_int = int(total_results.text.split(' ', 1)[0].replace(\",\", \"\"))\n",
        "        print(total_results_int)\n",
        "\n",
        "        time.sleep(2)\n",
        "        # get results for the first page\n",
        "        current_page = self.driver.current_url\n",
        "        results = self.driver.find_elements(By.CSS_SELECTOR, \"li.job-result-card\")\n",
        "\n",
        "        # for each job add, submit an application if no questions asked\n",
        "        for result in results:\n",
        "            hover = ActionChains(self.driver).move_to_element(result)\n",
        "            hover.perform()\n",
        "            title = result.find_element(By.CSS_SELECTOR, \"h3\")\n",
        "            self.submit_apply(title)\n",
        "\n",
        "        # if there are more than one page, find the pages and apply to the results of each page\n",
        "        if total_results_int > 25:\n",
        "            time.sleep(2)\n",
        "\n",
        "            # find the last page and construct the URL of each page based on the total amount of pages\n",
        "            find_pages = self.driver.find_elements(By.CSS_SELECTOR, \"button.artdeco-pagination__indicator--number\")\n",
        "            total_pages = find_pages[-1].text\n",
        "            total_pages_int = int(re.sub(r\"[^\\d.]\", \"\", total_pages))\n",
        "            get_last_page = self.driver.find_element(By.XPATH, f\"//button[@aria-label='Page {total_pages_int}']\")\n",
        "            get_last_page.click()\n",
        "            time.sleep(2)\n",
        "            last_page = self.driver.current_url\n",
        "            total_jobs = int(last_page.split('start=', 1)[1])\n",
        "\n",
        "            # go through all available pages and job offers and apply\n",
        "            for page_number in range(25, total_jobs + 25, 25):\n",
        "                self.driver.get(current_page + f'&start={page_number}')\n",
        "                time.sleep(2)\n",
        "                results_ext = self.driver.find_elements(By.CSS_SELECTOR, \"li.job-result-card\")\n",
        "                for result_ext in results_ext:\n",
        "                    hover_ext = ActionChains(self.driver).move_to_element(result_ext)\n",
        "                    hover_ext.perform()\n",
        "                    title_ext = result_ext.find_element(By.CSS_SELECTOR, \"h3\")\n",
        "                    self.submit_apply(title_ext)\n",
        "        else:\n",
        "            self.close_session()\n",
        "\n",
        "\n",
        "    def submit_apply(self,job_add):\n",
        "        \"\"\"This function submits the application for the job add found\"\"\"\n",
        "\n",
        "        print('You are applying to the position of: ', job_add.text,job_add.id)\n",
        "        job_add.click()\n",
        "        time.sleep(2)\n",
        "\n",
        "        # click on the easy apply button, skip if already applied to the position\n",
        "        try:\n",
        "            in_apply = self.driver.find_element(By.XPATH,\"//button[@data-job-id]\")\n",
        "            in_apply.click()\n",
        "\n",
        "        except NoSuchElementException:\n",
        "            print('You already applied to this job, go to next...')\n",
        "            return\n",
        "\n",
        "        print('Loop break')\n",
        "        time.sleep(1)\n",
        "\n",
        "        #Case for applications\n",
        "        self.quick_apply()\n",
        "        time.sleep(1)\n",
        "        # self.quick_apply_next()\n",
        "        time.sleep(1)\n",
        "        # self.discard_method()\n",
        "        time.sleep(1)\n",
        "    def scroll_shim(self):\n",
        "\n",
        "      lenOfPage = self.driver.execute_script(\"window.scrollTo(0, document.body.scrollHeight);var lenOfPage=document.body.scrollHeight;return lenOfPage;\")\n",
        "      match=False\n",
        "      while(match==False):\n",
        "          lastCount = lenOfPage\n",
        "          time.sleep(3)\n",
        "          lenOfPage = self.driver.execute_script(\"window.scrollTo(0, document.body.scrollHeight);var lenOfPage=document.body.scrollHeight;return lenOfPage;\")\n",
        "          if lastCount == lenOfPage:\n",
        "              match=True\n",
        "\n",
        "\n",
        "    def find_offer1(self):\n",
        "        \"\"\"This function finds all the offers through all the pages result of the search and filter\"\"\"\n",
        "\n",
        "        # Define a list to store applied job IDs\n",
        "        applied_job_ids = []\n",
        "\n",
        "        time.sleep(5)\n",
        "        # find the total amount of results (if the results are above 24-more than one page-, we will scroll through all available pages)\n",
        "        total_results = self.driver.find_element(By.CLASS_NAME, \"display-flex.t-12.t-black--light.t-normal\")\n",
        "        total_results_int = int(total_results.text.split(' ', 1)[0].replace(\",\", \"\"))\n",
        "        print(\"total result\", total_results_int, total_results)\n",
        "\n",
        "        # ...\n",
        "\n",
        "        time.sleep(5)\n",
        "        # get results for the first page\n",
        "        current_page = self.driver.current_url\n",
        "\n",
        "        results = self.driver.find_elements(By.CLASS_NAME,\"ember-view.jobs-search-results__list-item.occludable-update.p0.relative\")\n",
        "\n",
        "        # for each job add, submits application if no questions asked\n",
        "\n",
        "        # for each job add, submits application if no questions asked\n",
        "        for result in results:\n",
        "            self.scroll_shim()\n",
        "            time.sleep(2)\n",
        "\n",
        "            try:\n",
        "                hover = ActionChains(self.driver).move_to_element(result)\n",
        "                hover.perform()\n",
        "                time.sleep(1)\n",
        "                titles = result.find_elements(By.CLASS_NAME, 'full-width.artdeco-entity-lockup__title.ember-view')\n",
        "                for title in titles:\n",
        "                    job_id = title.get_attribute(\"data-occludable-job-id\")\n",
        "                    print(job_id,\"hhhhhhhhhh\")\n",
        "                    # Check if the job ID is already in the applied_job_ids list\n",
        "                    if job_id not in applied_job_ids:\n",
        "                        job_title = title.text.strip()\n",
        "                        job_id = title.find_element(By.CSS_SELECTOR, 'a').get_attribute(\"data-control-id\")\n",
        "                        time.sleep(40)\n",
        "                        m=self.driver.current_url\n",
        "                        print('Job Title:', job_title, )\n",
        "\n",
        "                        print('Job ID:', job_id)\n",
        "                        time.sleep(20)\n",
        "                        if m in d:\n",
        "                            continue\n",
        "                        d[m]=1\n",
        "                        print('Job Title:', title.text)\n",
        "                        print('Job ID:', job_id)\n",
        "\n",
        "                        # Add the job ID to the applied_job_ids list\n",
        "                        applied_job_ids.append(job_id)\n",
        "\n",
        "                        self.submit_apply(title)\n",
        "\n",
        "            except (StaleElementReferenceException, MoveTargetOutOfBoundsException):\n",
        "                pass\n",
        "\n",
        "        # ...\n",
        "\n",
        "        # go through all available pages and job offers and apply\n",
        "        for page_number in range(25, total_jobs + 25, 25):\n",
        "            self.driver.get(current_page + '&start=' + str(page_number))\n",
        "            time.sleep(5)\n",
        "            results_ext = self.driver.find_elements(By.CLASS_NAME, \"ember-view.jobs-search-results__list-item.occludable-update.p0.relative\")\n",
        "\n",
        "            for result_ext in results_ext:\n",
        "                self.scroll_shim()\n",
        "                time.sleep(2)\n",
        "                try:\n",
        "                    hover_ext = ActionChains(self.driver).move_to_element(result_ext)\n",
        "                    hover_ext.perform()\n",
        "                    time.sleep(1)\n",
        "                    titles_ext = result_ext.find_elements(By.CLASS_NAME, 'full-width.artdeco-entity-lockup__title.ember-view')\n",
        "                    for title_ext in titles_ext:\n",
        "                        job_id = title_ext.get_attribute(\"data-occludable-job-id\")\n",
        "\n",
        "                        # Check if the job ID is already in the applied_job_ids list\n",
        "                        if job_id not in applied_job_ids:\n",
        "                            self.submit_apply(title_ext)\n",
        "\n",
        "                            # Add the job ID to the applied_job_ids list\n",
        "                            applied_job_ids.append(job_id)\n",
        "\n",
        "                except (StaleElementReferenceException, MoveTargetOutOfBoundsException):\n",
        "                    pass\n",
        "\n",
        "        else:\n",
        "            self.close_session()\n",
        "\n",
        "\n",
        "    def discard_method(self):\n",
        "        #Does not have quick application\n",
        "        try:\n",
        "            discard = self.driver.find_element(By.XPATH,\"//button[@data-test-modal-close-btn]\")\n",
        "            discard.send_keys(Keys.RETURN)\n",
        "            time.sleep(1)\n",
        "            discard_confirm = self.driver.find_element(By.XPATH,\"//button[@data-test-dialog-secondary-btn]\")\n",
        "            discard_confirm.send_keys(Keys.RETURN)\n",
        "            time.sleep(1)\n",
        "            print('Not direct application, going to next...')\n",
        "        except (NoSuchElementException, StaleElementReferenceException, MoveTargetOutOfBoundsException):\n",
        "            return\n",
        "    #case 1: Submit\n",
        "    def quick_apply(self):\n",
        "        # try to submit if submit application is available...\n",
        "        #quick_apply\n",
        "\n",
        "        try:\n",
        "            # self.scroll_shim();\n",
        "            unfollow = self.driver.find_element(By.XPATH,\"//input[@id='follow-company-checkbox']\")\n",
        "            if unfollow.is_selected():\n",
        "                #uncheck\n",
        "                self.driver.execute_script(\"arguments[0].click();\",unfollow)\n",
        "            time.sleep(1)\n",
        "            submit = self.driver.find_element(By.XPATH,\"//button[@aria-label='Submit application']\")\n",
        "            submit.click()\n",
        "            time.sleep(1)\n",
        "            print('Your application is successful...')\n",
        "\n",
        "            try:\n",
        "                done_button = self.driver.find_element(By.XPATH,\"//button[@id]\")\n",
        "                done_button.send_keys(Keys.RETURN)\n",
        "                time.sleep(1)\n",
        "\n",
        "            except (NoSuchElementException, StaleElementReferenceException, MoveTargetOutOfBoundsException):\n",
        "                discard_applied = self.driver.find_element(By.XPATH,\"//button[@data-test-modal-close-btn]\")\n",
        "                discard_applied.send_keys(Keys.RETURN)\n",
        "                time.sleep(1)\n",
        "\n",
        "        except (NoSuchElementException, StaleElementReferenceException, MoveTargetOutOfBoundsException):\n",
        "            print('hoooo')\n",
        "            return\n",
        "\n",
        "    time.sleep(1)\n",
        "    #case 2: Submit+Next\n",
        "    def quick_apply_next(self):\n",
        "        # try to submit if submit application is available...\n",
        "        #quick_apply_next\n",
        "        try:\n",
        "            next_button = self.driver.find_element(By.XPATH,\"//button[@aria-label='Continue to next step']\")\n",
        "            next_button.click()\n",
        "            time.sleep(1)\n",
        "            review_button = self.driver.find_element(By.XPATH,\"//button[@aria-label='Review your application']\")\n",
        "            review_button.click()\n",
        "            time.sleep(1)\n",
        "\n",
        "            unfollow = self.driver.find_element(By.XPATH,\"//input[@id='follow-company-checkbox']\")\n",
        "            if unfollow.is_selected():\n",
        "                #uncheck\n",
        "                self.driver.execute_script(\"arguments[0].click();\",unfollow)\n",
        "\n",
        "            submit_app = self.driver.find_element(By.XPATH,\"//button[@aria-label='Submit application']\")\n",
        "            submit_app.click()\n",
        "            time.sleep(1)\n",
        "            print('Next option selected, your application is successful...')\n",
        "\n",
        "            try:\n",
        "                done_button_next = self.driver.find_element(By.XPATH,\"//button[@id]\")\n",
        "                done_button_next.send_keys(Keys.RETURN)\n",
        "                time.sleep(1)\n",
        "\n",
        "            except (NoSuchElementException, StaleElementReferenceException, MoveTargetOutOfBoundsException):\n",
        "                discard_applied_next = self.driver.find_element(By.XPATH,\"//button[@data-test-modal-close-btn]\")\n",
        "                discard_applied_next.send_keys(Keys.RETURN)\n",
        "                time.sleep(1)\n",
        "\n",
        "        except (NoSuchElementException,StaleElementReferenceException, MoveTargetOutOfBoundsException):\n",
        "            pass\n",
        "    def close_session(self):\n",
        "        \"\"\"This function closes the actual session\"\"\"\n",
        "\n",
        "        print('End of the session, see you later!')\n",
        "        self.driver.close()\n",
        "\n",
        "    # def apply(self):\n",
        "    #     \"\"\"Apply to job offers\"\"\"\n",
        "\n",
        "    #     self.driver.maximize_window()\n",
        "    #     self.login_linkedin()\n",
        "    #     time.sleep(2)\n",
        "    #     self.job_search1()\n",
        "    #     time.sleep(3)\n",
        "    #     # self.filter()\n",
        "    #     # self.job_search()\n",
        "    #     time.sleep(2)\n",
        "    #     self.find_offer1()\n",
        "    #     time.sleep(2)\n",
        "    #     self.close_session()\n",
        "\n",
        "    def apply(self):\n",
        "        \"\"\"Apply to job offers\"\"\"\n",
        "\n",
        "        self.driver.maximize_window()\n",
        "        self.login_linkedin()\n",
        "        time.sleep(2)\n",
        "        self.job_search1()\n",
        "        time.sleep(2)\n",
        "\n",
        "        time.sleep(2)\n",
        "        self.find_offer1()\n",
        "        time.sleep(2)\n",
        "        self.close_session()\n",
        "\n",
        "if __name__ == '__main__':\n",
        "\n",
        "\n",
        "    bot = EasyApplyLinkedin(data)\n",
        "    bot.apply()\n"
      ]
    },
    {
      "cell_type": "code",
      "execution_count": null,
      "metadata": {
        "id": "Ng-fvKmtUiKB",
        "outputId": "1a08218f-56a9-4b6f-e344-92c94a4f5b8a"
      },
      "outputs": [
        {
          "name": "stdout",
          "output_type": "stream",
          "text": [
            "{'https://www.linkedin.com/jobs/search/?currentJobId=3656711099&f_AL=true&f_WT=2&geoId=92000000&keywords=React%20Native%20Developer&location=India': 1, 'https://www.linkedin.com/jobs/search/?currentJobId=3457349452&f_AL=true&f_WT=2&geoId=92000000&keywords=React%20Native%20Developer&location=India': 1}\n"
          ]
        }
      ],
      "source": [
        "print(d)"
      ]
    },
    {
      "cell_type": "code",
      "execution_count": null,
      "metadata": {
        "id": "WioR7KLsUiKC",
        "outputId": "0a0b0e37-f51d-4f2a-9dd0-5b3178cc5d60"
      },
      "outputs": [
        {
          "name": "stdout",
          "output_type": "stream",
          "text": [
            "{'https://www.linkedin.com/jobs/search/?currentJobId=3656711099&f_AL=true&f_WT=2&geoId=92000000&keywords=React%20Native%20Developer&location=India': 1, 'https://www.linkedin.com/jobs/search/?currentJobId=3457349452&f_AL=true&f_WT=2&geoId=92000000&keywords=React%20Native%20Developer&location=India': 1, 'https://www.linkedin.com/jobs/search/?currentJobId=3577411457&f_AL=true&f_WT=2&geoId=92000000&keywords=React%20Native%20Developer&location=India': 1}\n"
          ]
        }
      ],
      "source": [
        "print(d)"
      ]
    },
    {
      "cell_type": "code",
      "execution_count": null,
      "metadata": {
        "colab": {
          "base_uri": "https://localhost:8080/",
          "height": 383
        },
        "id": "5MTSZBRVUiKC",
        "outputId": "63be6f9a-1a66-4419-8178-19ba974ff5bd"
      },
      "outputs": [
        {
          "output_type": "error",
          "ename": "ModuleNotFoundError",
          "evalue": "ignored",
          "traceback": [
            "\u001b[0;31m---------------------------------------------------------------------------\u001b[0m",
            "\u001b[0;31mModuleNotFoundError\u001b[0m                       Traceback (most recent call last)",
            "\u001b[0;32m<ipython-input-16-49482d20e949>\u001b[0m in \u001b[0;36m<cell line: 2>\u001b[0;34m()\u001b[0m\n\u001b[1;32m      1\u001b[0m \u001b[0;32mimport\u001b[0m \u001b[0mtime\u001b[0m\u001b[0;34m,\u001b[0m\u001b[0mmath\u001b[0m\u001b[0;34m,\u001b[0m\u001b[0mrandom\u001b[0m\u001b[0;34m,\u001b[0m\u001b[0mos\u001b[0m\u001b[0;34m\u001b[0m\u001b[0;34m\u001b[0m\u001b[0m\n\u001b[0;32m----> 2\u001b[0;31m \u001b[0;32mimport\u001b[0m \u001b[0mutils\u001b[0m\u001b[0;34m,\u001b[0m\u001b[0mconstants\u001b[0m\u001b[0;34m,\u001b[0m\u001b[0mconfig\u001b[0m\u001b[0;34m\u001b[0m\u001b[0;34m\u001b[0m\u001b[0m\n\u001b[0m\u001b[1;32m      3\u001b[0m \u001b[0;34m\u001b[0m\u001b[0m\n\u001b[1;32m      4\u001b[0m \u001b[0;32mfrom\u001b[0m \u001b[0mselenium\u001b[0m \u001b[0;32mimport\u001b[0m \u001b[0mwebdriver\u001b[0m\u001b[0;34m\u001b[0m\u001b[0;34m\u001b[0m\u001b[0m\n\u001b[1;32m      5\u001b[0m \u001b[0;32mfrom\u001b[0m \u001b[0mselenium\u001b[0m\u001b[0;34m.\u001b[0m\u001b[0mwebdriver\u001b[0m\u001b[0;34m.\u001b[0m\u001b[0mcommon\u001b[0m\u001b[0;34m.\u001b[0m\u001b[0mby\u001b[0m \u001b[0;32mimport\u001b[0m \u001b[0mBy\u001b[0m\u001b[0;34m\u001b[0m\u001b[0;34m\u001b[0m\u001b[0m\n",
            "\u001b[0;31mModuleNotFoundError\u001b[0m: No module named 'utils'",
            "",
            "\u001b[0;31m---------------------------------------------------------------------------\u001b[0;32m\nNOTE: If your import is failing due to a missing package, you can\nmanually install dependencies using either !pip or !apt.\n\nTo view examples of installing some common dependencies, click the\n\"Open Examples\" button below.\n\u001b[0;31m---------------------------------------------------------------------------\u001b[0m\n"
          ],
          "errorDetails": {
            "actions": [
              {
                "action": "open_url",
                "actionText": "Open Examples",
                "url": "/notebooks/snippets/importing_libraries.ipynb"
              }
            ]
          }
        }
      ],
      "source": [
        "import time,math,random,os\n",
        "import utils,constants,config\n",
        "\n",
        "from selenium import webdriver\n",
        "from selenium.webdriver.common.by import By\n",
        "from utils import prRed,prYellow,prGreen\n",
        "\n",
        "from webdriver_manager.chrome import ChromeDriverManager\n",
        "from selenium.webdriver.chrome.service import Service as ChromeService\n",
        "\n",
        "class Linkedin:\n",
        "    def __init__(self):\n",
        "\n",
        "            prYellow(\"🌐 Bot will run in Chrome browser and log in Linkedin for you.\")\n",
        "            self.driver = webdriver.Chrome(service=ChromeService(ChromeDriverManager().install()),options=utils.chromeBrowserOptions())\n",
        "            self.driver.get(\"https://www.linkedin.com/login?trk=guest_homepage-basic_nav-header-signin\")\n",
        "\n",
        "            prYellow(\"🔄 Trying to log in linkedin...\")\n",
        "            try:\n",
        "                self.driver.find_element(\"id\",\"username\").send_keys('maliksakshi248@gmail.com')\n",
        "                time.sleep(2)\n",
        "                self.driver.find_element(\"id\",\"password\").send_keys('malik123@')\n",
        "                time.sleep(2)\n",
        "                self.driver.find_element(\"xpath\",'//button[@type=\"submit\"]').click()\n",
        "                time.sleep(5)\n",
        "                self.mongoConnection(\"Check\")\n",
        "            except:\n",
        "                prRed(\"❌ Couldn't log in Linkedin by using Chrome. Please check your Linkedin credentials on config files line 7 and 8. If error continue you can define Chrome profile or run the bot on Firefox\")\n",
        "\n",
        "\n",
        "\n",
        "    def generateUrls(self):\n",
        "        if not os.path.exists('data'):\n",
        "            os.makedirs('data')\n",
        "        try:\n",
        "            with open('data/urlData.txt', 'w',encoding=\"utf-8\" ) as file:\n",
        "                linkedinJobLinks = utils.LinkedinUrlGenerate().generateUrlLinks()\n",
        "                for url in linkedinJobLinks:\n",
        "                    file.write(url+ \"\\n\")\n",
        "            prGreen(\"✅ Urls are created successfully, now the bot will visit those urls.\")\n",
        "        except:\n",
        "            prRed(\"❌ Couldn't generate url, make sure you have /data folder and modified config.py file for your preferances.\")\n",
        "\n",
        "    def linkJobApply(self):\n",
        "        self.generateUrls()\n",
        "        countApplied = 0\n",
        "        countJobs = 0\n",
        "\n",
        "        urlData = utils.getUrlDataFile()\n",
        "\n",
        "        for url in urlData:\n",
        "            self.driver.get(url)\n",
        "\n",
        "            totalJobs = self.driver.find_element(By.XPATH,'//small').text\n",
        "            totalPages = utils.jobsToPages(totalJobs)\n",
        "\n",
        "            urlWords =  utils.urlToKeywords(url)\n",
        "            lineToWrite = \"\\n Category: \" + urlWords[0] + \", Location: \" +urlWords[1] + \", Applying \" +str(totalJobs)+ \" jobs.\"\n",
        "            self.displayWriteResults(lineToWrite)\n",
        "\n",
        "            for page in range(totalPages):\n",
        "                currentPageJobs = constants.jobsPerPage * page\n",
        "                url = url +\"&start=\"+ str(currentPageJobs)\n",
        "                self.driver.get(url)\n",
        "                time.sleep(random.uniform(1, constants.botSpeed))\n",
        "\n",
        "                offersPerPage = self.driver.find_elements(By.XPATH,'//li[@data-occludable-job-id]')\n",
        "                offerIds = []\n",
        "\n",
        "                time.sleep(random.uniform(1, constants.botSpeed))\n",
        "\n",
        "                for offer in offersPerPage:\n",
        "                    offerId = offer.get_attribute(\"data-occludable-job-id\")\n",
        "                    offerIds.append(int(offerId.split(\":\")[-1]))\n",
        "\n",
        "                for jobID in offerIds:\n",
        "                    offerPage = 'https://www.linkedin.com/jobs/view/' + str(jobID)\n",
        "                    self.driver.get(offerPage)\n",
        "                    time.sleep(random.uniform(1, constants.botSpeed))\n",
        "\n",
        "                    countJobs += 1\n",
        "\n",
        "                    jobProperties = self.getJobProperties(countJobs)\n",
        "                    if \"blacklisted\" in jobProperties:\n",
        "                        lineToWrite = jobProperties + \" | \" + \"* 🤬 Blacklisted Job, skipped!: \" +str(offerPage)\n",
        "                        self.displayWriteResults(lineToWrite)\n",
        "\n",
        "                    else :\n",
        "                        button = self.easyApplyButton()\n",
        "\n",
        "                        if button is not False:\n",
        "                            button.click()\n",
        "                            time.sleep(random.uniform(1, constants.botSpeed))\n",
        "                            countApplied += 1\n",
        "                            try:\n",
        "                                self.chooseResume()\n",
        "                                self.driver.find_element(By.CSS_SELECTOR, \"button[aria-label='Submit application']\").click()\n",
        "                                time.sleep(random.uniform(1, constants.botSpeed))\n",
        "\n",
        "                                lineToWrite = jobProperties + \" | \" + \"* 🥳 Just Applied to this job: \"  +str(offerPage)\n",
        "                                self.displayWriteResults(lineToWrite)\n",
        "\n",
        "                            except:\n",
        "                                try:\n",
        "                                    self.driver.find_element(By.CSS_SELECTOR,\"button[aria-label='Continue to next step']\").click()\n",
        "                                    time.sleep(random.uniform(1, constants.botSpeed))\n",
        "\n",
        "                                    comPercentage = self.driver.find_element(By.XPATH,'html/body/div[3]/div/div/div[2]/div/div/span').text\n",
        "                                    percenNumber = int(comPercentage[0:comPercentage.index(\"%\")])\n",
        "                                    result = self.applyProcess(percenNumber,offerPage)\n",
        "                                    lineToWrite = jobProperties + \" | \" + result\n",
        "                                    self.displayWriteResults(lineToWrite)\n",
        "\n",
        "                                except Exception as e:\n",
        "                                    self.chooseResume()\n",
        "                                    lineToWrite = jobProperties + \" | \" + \"* 🥵 Cannot apply to this Job! \" +str(offerPage)\n",
        "                                    self.displayWriteResults(lineToWrite)\n",
        "                        else:\n",
        "                            lineToWrite = jobProperties + \" | \" + \"* 🥳 Already applied! Job: \" +str(offerPage)\n",
        "                            self.displayWriteResults(lineToWrite)\n",
        "\n",
        "\n",
        "            prYellow(\"Category: \" + urlWords[0] + \",\" +urlWords[1]+ \" applied: \" + str(countApplied) +\n",
        "                  \" jobs out of \" + str(countJobs) + \".\")\n",
        "\n",
        "        utils.donate(self)\n",
        "\n",
        "    def chooseResume(self):\n",
        "        try:\n",
        "            beSureIncludeResumeTxt = self.driver.find_element(By.CLASS_NAME, \"jobs-document-upload__title--is-required\")\n",
        "            if(beSureIncludeResumeTxt.text == \"Be sure to include an updated resume\"):\n",
        "                resumes = self.driver.find_elements(By.CSS_SELECTOR,\"button[aria-label='Choose Resume']\")\n",
        "                if(len(resumes) == 1):\n",
        "                    resumes[0].click()\n",
        "                elif(len(resumes)>1):\n",
        "                    resumes[config.preferredCv-1].click()\n",
        "                else:\n",
        "                    prRed(\"❌ No resume has been selected please add at least one resume to your Linkedin account.\")\n",
        "        except:\n",
        "            pass\n",
        "\n",
        "    def getJobProperties(self, count):\n",
        "        textToWrite = \"\"\n",
        "        jobTitle = \"\"\n",
        "        jobCompany = \"\"\n",
        "        jobLocation = \"\"\n",
        "        jobWOrkPlace = \"\"\n",
        "        jobPostedDate = \"\"\n",
        "        jobApplications = \"\"\n",
        "\n",
        "        try:\n",
        "            jobTitle = self.driver.find_element(By.XPATH,\"//h1[contains(@class, 'job-title')]\").get_attribute(\"innerHTML\").strip()\n",
        "            res = [blItem for blItem in config.blackListTitles if(blItem.lower() in jobTitle.lower())]\n",
        "            if (len(res)>0):\n",
        "                jobTitle += \"(blacklisted title: \"+ ' '.join(res)+ \")\"\n",
        "        except Exception as e:\n",
        "            if(config.displayWarnings):\n",
        "                prYellow(\"⚠️ Warning in getting jobTitle: \" +str(e)[0:50])\n",
        "            jobTitle = \"\"\n",
        "\n",
        "        try:\n",
        "            jobCompany = self.driver.find_element(By.XPATH,\"//a[contains(@class, 'ember-view t-black t-normal')]\").get_attribute(\"innerHTML\").strip()\n",
        "            res = [blItem for blItem in config.blacklistCompanies if(blItem.lower() in jobTitle.lower())]\n",
        "            if (len(res)>0):\n",
        "                jobCompany += \"(blacklisted company: \"+ ' '.join(res)+ \")\"\n",
        "        except Exception as e:\n",
        "            if(config.displayWarnings):\n",
        "                prYellow(\"⚠️ Warning in getting jobCompany: \" +str(e)[0:50])\n",
        "            jobCompany = \"\"\n",
        "\n",
        "        try:\n",
        "            jobLocation = self.driver.find_element(By.XPATH,\"//span[contains(@class, 'bullet')]\").get_attribute(\"innerHTML\").strip()\n",
        "        except Exception as e:\n",
        "            if(config.displayWarnings):\n",
        "                prYellow(\"⚠️ Warning in getting jobLocation: \" +str(e)[0:50])\n",
        "            jobLocation = \"\"\n",
        "\n",
        "        try:\n",
        "            jobWOrkPlace = self.driver.find_element(By.XPATH,\"//span[contains(@class, 'workplace-type')]\").get_attribute(\"innerHTML\").strip()\n",
        "        except Exception as e:\n",
        "            if(config.displayWarnings):\n",
        "                prYellow(\"⚠️ Warning in getting jobWorkPlace: \" +str(e)[0:50])\n",
        "            jobWOrkPlace = \"\"\n",
        "\n",
        "        try:\n",
        "            jobPostedDate = self.driver.find_element(By.XPATH,\"//span[contains(@class, 'posted-date')]\").get_attribute(\"innerHTML\").strip()\n",
        "        except Exception as e:\n",
        "            if(config.displayWarnings):\n",
        "                prYellow(\"⚠️ Warning in getting jobPostedDate: \" +str(e)[0:50])\n",
        "            jobPostedDate = \"\"\n",
        "\n",
        "        try:\n",
        "            jobApplications= self.driver.find_element(By.XPATH,\"//span[contains(@class, 'applicant-count')]\").get_attribute(\"innerHTML\").strip()\n",
        "        except Exception as e:\n",
        "            if(config.displayWarnings):\n",
        "                prYellow(\"⚠️ Warning in getting jobApplications: \" +str(e)[0:50])\n",
        "            jobApplications = \"\"\n",
        "\n",
        "        textToWrite = str(count)+ \" | \" +jobTitle+  \" | \" +jobCompany+  \" | \"  +jobLocation+ \" | \"  +jobWOrkPlace+ \" | \" +jobPostedDate+ \" | \" +jobApplications\n",
        "        return textToWrite\n",
        "\n",
        "    def easyApplyButton(self):\n",
        "        try:\n",
        "            time.sleep(random.uniform(1, constants.botSpeed))\n",
        "            button = self.driver.find_element(By.XPATH,\n",
        "                '//button[contains(@class, \"jobs-apply-button\")]')\n",
        "            EasyApplyButton = button\n",
        "        except:\n",
        "            EasyApplyButton = False\n",
        "\n",
        "        return EasyApplyButton\n",
        "\n",
        "    def applyProcess(self, percentage, offerPage):\n",
        "        applyPages = math.floor(100 / percentage)\n",
        "        result = \"\"\n",
        "        try:\n",
        "            for pages in range(applyPages-2):\n",
        "                self.driver.find_element(By.CSS_SELECTOR,\"button[aria-label='Continue to next step']\").click()\n",
        "                time.sleep(random.uniform(1, constants.botSpeed))\n",
        "\n",
        "            self.driver.find_element(By.CSS_SELECTOR,\"button[aria-label='Review your application']\").click()\n",
        "            time.sleep(random.uniform(1, constants.botSpeed))\n",
        "\n",
        "            if config.followCompanies is False:\n",
        "                self.driver.find_element(By.CSS_SELECTOR,\"label[for='follow-company-checkbox']\").click()\n",
        "                time.sleep(random.uniform(1, constants.botSpeed))\n",
        "\n",
        "            self.driver.find_element(By.CSS_SELECTOR,\"button[aria-label='Submit application']\").click()\n",
        "            time.sleep(random.uniform(1, constants.botSpeed))\n",
        "\n",
        "            result = \"* 🥳 Just Applied to this job: \" +str(offerPage)\n",
        "        except:\n",
        "            # PRO FEATURE! OUTPUT UNANSWERED QUESTIONS, APPLY THEM VIA OPENAI, output them.\n",
        "            result = \"* 🥵 \" +str(applyPages)+ \" Pages, couldn't apply to this job! Extra info needed. Link: \" +str(offerPage)\n",
        "        return result\n",
        "\n",
        "    def displayWriteResults(self,lineToWrite: str):\n",
        "        try:\n",
        "            print(lineToWrite)\n",
        "            utils.writeResults(lineToWrite)\n",
        "        except Exception as e:\n",
        "            prRed(\"❌ Error in DisplayWriteResults: \" +str(e))\n",
        "\n",
        "start = time.time()\n",
        "Linkedin().linkJobApply()\n",
        "end = time.time()\n",
        "prYellow(\"---Took: \" + str(round((time.time() - start)/60)) + \" minute(s).\")"
      ]
    },
    {
      "cell_type": "code",
      "execution_count": null,
      "metadata": {
        "id": "4iCcrAHFUiKH"
      },
      "outputs": [],
      "source": []
    }
  ],
  "metadata": {
    "kernelspec": {
      "display_name": "Python 3",
      "name": "python3"
    },
    "language_info": {
      "codemirror_mode": {
        "name": "ipython",
        "version": 3
      },
      "file_extension": ".py",
      "mimetype": "text/x-python",
      "name": "python",
      "nbconvert_exporter": "python",
      "pygments_lexer": "ipython3",
      "version": "3.11.4"
    },
    "colab": {
      "provenance": [],
      "gpuType": "T4",
      "include_colab_link": true
    },
    "accelerator": "GPU"
  },
  "nbformat": 4,
  "nbformat_minor": 0
}