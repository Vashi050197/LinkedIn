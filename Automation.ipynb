{
 "cells": [
  {
   "cell_type": "code",
   "execution_count": null,
   "id": "6d4291f9-37e7-44b8-acf7-e18bb15b1aeb",
   "metadata": {},
   "outputs": [],
   "source": []
  },
  {
   "cell_type": "code",
   "execution_count": 15,
   "id": "eccd5586-5dd7-4dee-995a-e279ad962d3a",
   "metadata": {},
   "outputs": [
    {
     "ename": "NoSuchElementException",
     "evalue": "Message: no such element: Unable to locate element: {\"method\":\"css selector\",\"selector\":\".jobs-apply-button--top-card button\"}\n  (Session info: chrome=119.0.6045.160); For documentation on this error, please visit: https://www.selenium.dev/documentation/webdriver/troubleshooting/errors#no-such-element-exception\nStacktrace:\n\tGetHandleVerifier [0x00007FF73B3582B2+55298]\n\t(No symbol) [0x00007FF73B2C5E02]\n\t(No symbol) [0x00007FF73B1805AB]\n\t(No symbol) [0x00007FF73B1C175C]\n\t(No symbol) [0x00007FF73B1C18DC]\n\t(No symbol) [0x00007FF73B1FCBC7]\n\t(No symbol) [0x00007FF73B1E20EF]\n\t(No symbol) [0x00007FF73B1FAAA4]\n\t(No symbol) [0x00007FF73B1E1E83]\n\t(No symbol) [0x00007FF73B1B670A]\n\t(No symbol) [0x00007FF73B1B7964]\n\tGetHandleVerifier [0x00007FF73B6D0AAB+3694587]\n\tGetHandleVerifier [0x00007FF73B72728E+4048862]\n\tGetHandleVerifier [0x00007FF73B71F173+4015811]\n\tGetHandleVerifier [0x00007FF73B3F47D6+695590]\n\t(No symbol) [0x00007FF73B2D0CE8]\n\t(No symbol) [0x00007FF73B2CCF34]\n\t(No symbol) [0x00007FF73B2CD062]\n\t(No symbol) [0x00007FF73B2BD3A3]\n\tBaseThreadInitThunk [0x00007FFFBA65257D+29]\n\tRtlUserThreadStart [0x00007FFFBBB0AA58+40]\n",
     "output_type": "error",
     "traceback": [
      "\u001b[1;31m---------------------------------------------------------------------------\u001b[0m",
      "\u001b[1;31mNoSuchElementException\u001b[0m                    Traceback (most recent call last)",
      "Cell \u001b[1;32mIn[15], line 30\u001b[0m\n\u001b[0;32m     27\u001b[0m time\u001b[38;5;241m.\u001b[39msleep(\u001b[38;5;241m8\u001b[39m)\n\u001b[0;32m     29\u001b[0m time\u001b[38;5;241m.\u001b[39msleep(\u001b[38;5;241m1\u001b[39m)\n\u001b[1;32m---> 30\u001b[0m easy_apply_button \u001b[38;5;241m=\u001b[39m \u001b[43mdriver\u001b[49m\u001b[38;5;241;43m.\u001b[39;49m\u001b[43mfind_element\u001b[49m\u001b[43m(\u001b[49m\u001b[43mBy\u001b[49m\u001b[38;5;241;43m.\u001b[39;49m\u001b[43mCSS_SELECTOR\u001b[49m\u001b[43m,\u001b[49m\u001b[43m \u001b[49m\u001b[38;5;124;43m\"\u001b[39;49m\u001b[38;5;124;43m.jobs-apply-button--top-card button\u001b[39;49m\u001b[38;5;124;43m\"\u001b[39;49m\u001b[43m)\u001b[49m\n\u001b[0;32m     31\u001b[0m easy_apply_button\u001b[38;5;241m.\u001b[39mclick()\n\u001b[0;32m     33\u001b[0m time\u001b[38;5;241m.\u001b[39msleep(\u001b[38;5;241m5\u001b[39m)\n",
      "File \u001b[1;32m~\\AppData\\Local\\Programs\\Python\\Python312\\Lib\\site-packages\\selenium\\webdriver\\remote\\webdriver.py:741\u001b[0m, in \u001b[0;36mWebDriver.find_element\u001b[1;34m(self, by, value)\u001b[0m\n\u001b[0;32m    738\u001b[0m     by \u001b[38;5;241m=\u001b[39m By\u001b[38;5;241m.\u001b[39mCSS_SELECTOR\n\u001b[0;32m    739\u001b[0m     value \u001b[38;5;241m=\u001b[39m \u001b[38;5;124mf\u001b[39m\u001b[38;5;124m'\u001b[39m\u001b[38;5;124m[name=\u001b[39m\u001b[38;5;124m\"\u001b[39m\u001b[38;5;132;01m{\u001b[39;00mvalue\u001b[38;5;132;01m}\u001b[39;00m\u001b[38;5;124m\"\u001b[39m\u001b[38;5;124m]\u001b[39m\u001b[38;5;124m'\u001b[39m\n\u001b[1;32m--> 741\u001b[0m \u001b[38;5;28;01mreturn\u001b[39;00m \u001b[38;5;28;43mself\u001b[39;49m\u001b[38;5;241;43m.\u001b[39;49m\u001b[43mexecute\u001b[49m\u001b[43m(\u001b[49m\u001b[43mCommand\u001b[49m\u001b[38;5;241;43m.\u001b[39;49m\u001b[43mFIND_ELEMENT\u001b[49m\u001b[43m,\u001b[49m\u001b[43m \u001b[49m\u001b[43m{\u001b[49m\u001b[38;5;124;43m\"\u001b[39;49m\u001b[38;5;124;43musing\u001b[39;49m\u001b[38;5;124;43m\"\u001b[39;49m\u001b[43m:\u001b[49m\u001b[43m \u001b[49m\u001b[43mby\u001b[49m\u001b[43m,\u001b[49m\u001b[43m \u001b[49m\u001b[38;5;124;43m\"\u001b[39;49m\u001b[38;5;124;43mvalue\u001b[39;49m\u001b[38;5;124;43m\"\u001b[39;49m\u001b[43m:\u001b[49m\u001b[43m \u001b[49m\u001b[43mvalue\u001b[49m\u001b[43m}\u001b[49m\u001b[43m)\u001b[49m[\u001b[38;5;124m\"\u001b[39m\u001b[38;5;124mvalue\u001b[39m\u001b[38;5;124m\"\u001b[39m]\n",
      "File \u001b[1;32m~\\AppData\\Local\\Programs\\Python\\Python312\\Lib\\site-packages\\selenium\\webdriver\\remote\\webdriver.py:347\u001b[0m, in \u001b[0;36mWebDriver.execute\u001b[1;34m(self, driver_command, params)\u001b[0m\n\u001b[0;32m    345\u001b[0m response \u001b[38;5;241m=\u001b[39m \u001b[38;5;28mself\u001b[39m\u001b[38;5;241m.\u001b[39mcommand_executor\u001b[38;5;241m.\u001b[39mexecute(driver_command, params)\n\u001b[0;32m    346\u001b[0m \u001b[38;5;28;01mif\u001b[39;00m response:\n\u001b[1;32m--> 347\u001b[0m     \u001b[38;5;28;43mself\u001b[39;49m\u001b[38;5;241;43m.\u001b[39;49m\u001b[43merror_handler\u001b[49m\u001b[38;5;241;43m.\u001b[39;49m\u001b[43mcheck_response\u001b[49m\u001b[43m(\u001b[49m\u001b[43mresponse\u001b[49m\u001b[43m)\u001b[49m\n\u001b[0;32m    348\u001b[0m     response[\u001b[38;5;124m\"\u001b[39m\u001b[38;5;124mvalue\u001b[39m\u001b[38;5;124m\"\u001b[39m] \u001b[38;5;241m=\u001b[39m \u001b[38;5;28mself\u001b[39m\u001b[38;5;241m.\u001b[39m_unwrap_value(response\u001b[38;5;241m.\u001b[39mget(\u001b[38;5;124m\"\u001b[39m\u001b[38;5;124mvalue\u001b[39m\u001b[38;5;124m\"\u001b[39m, \u001b[38;5;28;01mNone\u001b[39;00m))\n\u001b[0;32m    349\u001b[0m     \u001b[38;5;28;01mreturn\u001b[39;00m response\n",
      "File \u001b[1;32m~\\AppData\\Local\\Programs\\Python\\Python312\\Lib\\site-packages\\selenium\\webdriver\\remote\\errorhandler.py:229\u001b[0m, in \u001b[0;36mErrorHandler.check_response\u001b[1;34m(self, response)\u001b[0m\n\u001b[0;32m    227\u001b[0m         alert_text \u001b[38;5;241m=\u001b[39m value[\u001b[38;5;124m\"\u001b[39m\u001b[38;5;124malert\u001b[39m\u001b[38;5;124m\"\u001b[39m]\u001b[38;5;241m.\u001b[39mget(\u001b[38;5;124m\"\u001b[39m\u001b[38;5;124mtext\u001b[39m\u001b[38;5;124m\"\u001b[39m)\n\u001b[0;32m    228\u001b[0m     \u001b[38;5;28;01mraise\u001b[39;00m exception_class(message, screen, stacktrace, alert_text)  \u001b[38;5;66;03m# type: ignore[call-arg]  # mypy is not smart enough here\u001b[39;00m\n\u001b[1;32m--> 229\u001b[0m \u001b[38;5;28;01mraise\u001b[39;00m exception_class(message, screen, stacktrace)\n",
      "\u001b[1;31mNoSuchElementException\u001b[0m: Message: no such element: Unable to locate element: {\"method\":\"css selector\",\"selector\":\".jobs-apply-button--top-card button\"}\n  (Session info: chrome=119.0.6045.160); For documentation on this error, please visit: https://www.selenium.dev/documentation/webdriver/troubleshooting/errors#no-such-element-exception\nStacktrace:\n\tGetHandleVerifier [0x00007FF73B3582B2+55298]\n\t(No symbol) [0x00007FF73B2C5E02]\n\t(No symbol) [0x00007FF73B1805AB]\n\t(No symbol) [0x00007FF73B1C175C]\n\t(No symbol) [0x00007FF73B1C18DC]\n\t(No symbol) [0x00007FF73B1FCBC7]\n\t(No symbol) [0x00007FF73B1E20EF]\n\t(No symbol) [0x00007FF73B1FAAA4]\n\t(No symbol) [0x00007FF73B1E1E83]\n\t(No symbol) [0x00007FF73B1B670A]\n\t(No symbol) [0x00007FF73B1B7964]\n\tGetHandleVerifier [0x00007FF73B6D0AAB+3694587]\n\tGetHandleVerifier [0x00007FF73B72728E+4048862]\n\tGetHandleVerifier [0x00007FF73B71F173+4015811]\n\tGetHandleVerifier [0x00007FF73B3F47D6+695590]\n\t(No symbol) [0x00007FF73B2D0CE8]\n\t(No symbol) [0x00007FF73B2CCF34]\n\t(No symbol) [0x00007FF73B2CD062]\n\t(No symbol) [0x00007FF73B2BD3A3]\n\tBaseThreadInitThunk [0x00007FFFBA65257D+29]\n\tRtlUserThreadStart [0x00007FFFBBB0AA58+40]\n"
     ]
    }
   ],
   "source": [
    "import time\n",
    "from selenium import webdriver\n",
    "from selenium.webdriver.common.by import By\n",
    "\n",
    "# Placeholder values, replace these with your actual credentials\n",
    "ACCOUNT_EMAIL = \"vashi5684@gmail.com\"\n",
    "ACCOUNT_PASSWORD = \"Ds?nf2=&!iC.qJ)\"\n",
    "cc=\"I\"\n",
    "PHONE_NUMBER = \"8077975459\"\n",
    "LINK = 'https://www.linkedin.com/jobs/search/?currentJobId=3765114095&distance=25&f_AL=true&geoId=102713980&keywords=Python%20Engineer&origin=JOBS_HOME_SEARCH_CARDS'\n",
    "\n",
    "driver = webdriver.Chrome()\n",
    "driver.get(LINK)\n",
    "\n",
    "sign_in = driver.find_element(By.XPATH, \"./html/body/div[1]/header/nav/div/a[2]\")\n",
    "sign_in.click()\n",
    "\n",
    "username = driver.find_element(By.ID, \"username\")\n",
    "username.send_keys(ACCOUNT_EMAIL)\n",
    "\n",
    "password = driver.find_element(By.ID, \"password\")\n",
    "password.send_keys(ACCOUNT_PASSWORD)\n",
    "\n",
    "sign_in_button = driver.find_element(By.CSS_SELECTOR, \".login__form_action_container  button\")\n",
    "sign_in_button.click()\n",
    "\n",
    "time.sleep(8)\n",
    "\n",
    "time.sleep(1)\n",
    "easy_apply_button = driver.find_element(By.CSS_SELECTOR, \".jobs-apply-button--top-card button\")\n",
    "easy_apply_button.click()\n",
    "\n",
    "time.sleep(5)\n",
    "phone_country_code_field = driver.find_element(By.CSS_SELECTOR, \"#text-entity-list-form-component-formElement-urn-11-jobs-applyformcommon-easyApplyFormElement-*.phoneNumber-country\")\n",
    "# phone_country_code_field = driver.find_element(By.CSS_SELECTOR, \"#text-entity-list-form-component-formElement-urn-li-jobs-applyformcommon-easyApplyFormElement-3765114095-105752845-phoneNumber-country\")\n",
    "# phone_country_code_field = driver.find_element(By.CSS_SELECTOR, \".phoneNumber-country\")\n",
    "phone_country_code_field.select_by_value(\"India (+91)\")\n",
    "\n",
    "time.sleep(5)\n",
    "field = driver.find_elements(By.CSS_SELECTOR, \".artdeco-text-input .artdeco-text-input--input, .artdeco-text-input .artdeco-text-input--search\")\n",
    "for input_field in field:\n",
    "    if input_field.get_attribute(\"value\") == \"\":\n",
    "        input_field.send_keys(PHONE_NUMBER)\n",
    "\n",
    "time.sleep(4)\n",
    "next_button = driver.find_element(By.CSS_SELECTOR, \".artdeco-button, .artdeco-button--2, .peek-carousel-controls__button\")\n",
    "next_button.click()\n",
    "\n",
    "time.sleep(2)\n",
    "save_button = driver.find_element(By.CLASS_NAME, \"artdeco-modal__confirm-dialog-btn.artdeco-button.artdeco-button--2.artdeco-button--primary.ember-view\")\n",
    "if save_button.get_attribute(\"data-control-name\") == \"save_application_btn\":\n",
    "    save_button.click()\n",
    "\n",
    "    time.sleep(4)\n",
    "    continue_button = driver.find_element(By.CLASS_NAME, \"jobs-apply-button.artdeco-button.artdeco-button--3.artdeco-button--primary.ember-view\")\n",
    "    continue_button.click()\n",
    "\n",
    "    time.sleep(3)\n",
    "    next_button = driver.find_element(By.CLASS_NAME, \"artdeco-button.artdeco-button--2.artdeco-button--primary.ember-view\")\n",
    "    next_button.click()\n",
    "\n",
    "    time.sleep(3)\n",
    "    next_button_2 = driver.find_element(By.CLASS_NAME, \"artdeco-button.artdeco-button--2.artdeco-button--primary.ember-view\")\n",
    "    next_button_2.click()\n",
    "    time.sleep(2)\n",
    "    # Question_section\n",
    "    Question_Label = driver.find_elements(By.CSS_SELECTOR,\".artdeco-text-input .artdeco-text-input--label\")\n",
    "    labels = []\n",
    "    for label in Question_Label:\n",
    "        labels.append(label.text)\n",
    "\n",
    "    answer = driver.find_elements(By.CSS_SELECTOR, \".artdeco-text-input .artdeco-text-input--input, .artdeco-text-input .artdeco-text-input--input:required:invalid, .artdeco-text-input .artdeco-text-input--input:required:valid, .artdeco-text-input .artdeco-text-input--search, .artdeco-text-input .artdeco-text-input--search:required:invalid, .artdeco-text-input .artdeco-text-input--search:required:valid\")\n",
    "    index = 0\n",
    "    for ans in answer:\n",
    "        ans.send_keys(input(labels[index]))\n",
    "        index += 1\n",
    "\n",
    "    time.sleep(2)\n",
    "    review_button = driver.find_element(By.CLASS_NAME, \"artdeco-button.artdeco-button--2.artdeco-button--primary.ember-view\")\n",
    "    review_button.click()\n",
    "\n",
    "    time.sleep(1)\n",
    "    submit_button = driver.find_element(By.CLASS_NAME, \"artdeco-button.artdeco-button--2.artdeco-button--primary.ember-view\")\n",
    "    submit_button.click()\n",
    "    time.sleep(5)\n",
    "else:\n",
    "    print(\"Something went wrong text me at: your_email@example.com and add the screenshot of the error to fix it\")\n",
    "\n",
    "driver.quit()"
   ]
  },
  {
   "cell_type": "code",
   "execution_count": 26,
   "id": "4c05c815-f1cd-4c67-b115-3cfa57287187",
   "metadata": {
    "editable": true,
    "slideshow": {
     "slide_type": ""
    },
    "tags": []
   },
   "outputs": [
    {
     "name": "stdout",
     "output_type": "stream",
     "text": [
      "4\n",
      "Hell\n"
     ]
    }
   ],
   "source": [
    "a=10\n",
    "\n",
    "c=4\n",
    "print(c)\n",
    "\n",
    "print(\"Hell\")"
   ]
  },
  {
   "cell_type": "code",
   "execution_count": null,
   "id": "3a540034-b947-4ad1-aaf1-38e992efe34c",
   "metadata": {},
   "outputs": [],
   "source": []
  }
 ],
 "metadata": {
  "kernelspec": {
   "display_name": "Python 3 (ipykernel)",
   "language": "python",
   "name": "python3"
  },
  "language_info": {
   "codemirror_mode": {
    "name": "ipython",
    "version": 3
   },
   "file_extension": ".py",
   "mimetype": "text/x-python",
   "name": "python",
   "nbconvert_exporter": "python",
   "pygments_lexer": "ipython3",
   "version": "3.12.0"
  }
 },
 "nbformat": 4,
 "nbformat_minor": 5
}
